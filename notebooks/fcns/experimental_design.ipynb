{
  "cells": [
    {
      "cell_type": "markdown",
      "metadata": {
        "id": "view-in-github",
        "colab_type": "text"
      },
      "source": [
        "<a href=\"https://colab.research.google.com/github/nanopiero/fusion/blob/main/notebooks/fcns/experimental_design.ipynb\" target=\"_parent\"><img src=\"https://colab.research.google.com/assets/colab-badge.svg\" alt=\"Open In Colab\"/></a>"
      ]
    },
    {
      "cell_type": "markdown",
      "source": [
        "# Experimental design\n",
        "\n",
        "## A. Regression\n",
        "\n",
        "      - A1.radar + cmls -> gauges  [xrl_yg1]\n",
        "      - A2.radar + cmls -> gauges1min + gauges60min [xrl_yg1g60]\n",
        "\n",
        "## B. Regression and spatialization\n",
        "\n",
        "    - B1.radar + gauges 1 min + cmls -> pluvios 1 min/1 h [xrlp1_yp1p60]\n",
        "      - B1.1 [xrlg1_yg1g60_allcross]\n",
        "          training inputs : 0-9 pluvios\n",
        "      - B1.2 [xrlg1_yg1g60_allcrossid]\n",
        "          training targets : 10–1 pluvios\n",
        "      - B1.3 [xrlg1_yg1g60_5gcross]\n",
        "          training inputs : 0-5 pluvios\n",
        "          training targets : 10–5 pluvios\n",
        "      - B1.4 [xrlg1_yg1g60_5gcrossid]\n",
        "          training inputs : 0-5 pluvios  \n",
        "          training targets : 10–5 pluvios\n",
        "\n",
        "    - B2.radar + pluvio 1 min + cmls -> pluvios 1 min/1 h + CMLs [xrlg1_yg1g60l]\n",
        "\n",
        "## C. Regression, spatialization, and radar adversarial loss\n",
        "\n",
        "    - C1.radar + pluvio 1 min + cmls -> pluvios 1 min/1 h (+ radar)\n",
        "       [xrlg1_yg1g60lr]\n",
        "\n",
        "    - C2.radar + pluvio 1 min + cmls -> pluvios 1 min/1 h (+ CMLs + radar) [xrlp1_yp1p60(l)]\n",
        "\n",
        "\n",
        "## D. Weakly supervised regression\n",
        "\n",
        "    - D1. noisy CMLs, consequences\n",
        "\n",
        "    - D2. correction\n",
        "\n"
      ],
      "metadata": {
        "id": "-1ciEeyNevrd"
      }
    }
  ],
  "metadata": {
    "colab": {
      "provenance": [],
      "machine_shape": "hm",
      "gpuType": "T4",
      "include_colab_link": true
    },
    "kernelspec": {
      "display_name": "Python 3",
      "name": "python3"
    },
    "accelerator": "GPU"
  },
  "nbformat": 4,
  "nbformat_minor": 0
}