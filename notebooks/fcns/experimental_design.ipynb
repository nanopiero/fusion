{
 "cells": [
  {
   "cell_type": "markdown",
   "metadata": {
    "colab_type": "text",
    "id": "view-in-github"
   },
   "source": [
    "<a href=\"https://colab.research.google.com/github/nanopiero/fusion/blob/main/notebooks/fcns/experimental_design.ipynb\" target=\"_parent\"><img src=\"https://colab.research.google.com/assets/colab-badge.svg\" alt=\"Open In Colab\"/></a>"
   ]
  },
  {
   "cell_type": "markdown",
   "metadata": {
    "id": "-1ciEeyNevrd"
   },
   "source": [
    "# Experimental design\n",
    "\n",
    "## A. Regression\n",
    "      - A1.radar + cmls -> gauges  [xrl_yg1]\n",
    "      - A2.radar + cmls -> gauges1min + gauges60min [xrl_yg1g60] (constraint on 1min scale output)\n",
    "      - A3.radar + cmls -> gauges1min + gauges60min [xrl_yg1g60] (auxiliary task)\n",
    "      - A4.radar + cmls -> gauges1min [xrl_yg1] segmentation + uncropped regression\n",
    "      - A5.radar + cmls -> gauges1min [xrl_yg1] no segmentation \n",
    "      \n",
    "        Aims: \n",
    "            - provides a baseline\n",
    "            - establishes the consequences of an auxiliary prediction of 60 min rain accumulation  \n",
    "            \n",
    "## B. Regression and spatialization\n",
    "\n",
    "    - B1.radar + gauges 1 min + cmls -> pluvios 1 min/1 h [xrlp1_yp1p60]\n",
    "      - B1.1 [xrlg1_yg1g60_allcross]\n",
    "          training inputs : 0-9 pluvios\n",
    "      - B1.2 [xrlg1_yg1g60_allcrossid]\n",
    "          training targets : 10–1 pluvios\n",
    "      - B1.3 [xrlg1_yg1g60_5gcross]\n",
    "          training inputs : 0-5 pluvios\n",
    "          training targets : 10–5 pluvios\n",
    "      - B1.4 [xrlg1_yg1g60_5gcrossid]\n",
    "          training inputs : 0-5 pluvios  \n",
    "          training targets : 10–5 pluvios\n",
    "      - B1.6 \n",
    "          cross val: leave one gauge out\n",
    "          \n",
    "    - B2.radar + gauges 1 min -> pluvios 1 min + cmls [xrg1_yg1]\n",
    "\n",
    "    - B3.radar + gauges 1 min + cmls -> gauges 1 min/1 h + cmls [xrlg1_yg1g60l]\n",
    "\n",
    "\n",
    "\n",
    "    \n",
    "\n",
    "## C. Regression, spatialization, and supervision with radar data\n",
    "\n",
    "    - C1. [...]  task0 : 0 * radar + cmls -> radar [input size = 65 min, onset in [0,4]] \n",
    "                 task1 : radar + cmls -> gauges \n",
    "\n",
    "    - C2. [...]  radar + cmls -> gauges + radar [DGMR losses]\n",
    "\n",
    "\n",
    "## D. Weakly supervised regression\n",
    "\n",
    "    - D1. noisy CMLs, consequences\n",
    "    \n",
    "    - D2. correction\n",
    "\n",
    "## E. Transfer learning:\n",
    "    \n",
    "    - E1. pretrain : B2 + zero fields ; train : B3   \n",
    "    \n",
    "    - E2. pretrain : B2 + random fields ; train : B3  "
   ]
  }
 ],
 "metadata": {
  "accelerator": "GPU",
  "colab": {
   "gpuType": "T4",
   "include_colab_link": true,
   "machine_shape": "hm",
   "provenance": []
  },
  "kernelspec": {
   "display_name": "Python 3 (ipykernel)",
   "language": "python",
   "name": "python3"
  },
  "language_info": {
   "codemirror_mode": {
    "name": "ipython",
    "version": 3
   },
   "file_extension": ".py",
   "mimetype": "text/x-python",
   "name": "python",
   "nbconvert_exporter": "python",
   "pygments_lexer": "ipython3",
   "version": "3.12.4"
  }
 },
 "nbformat": 4,
 "nbformat_minor": 4
}
