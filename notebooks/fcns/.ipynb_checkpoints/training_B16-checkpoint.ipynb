{
 "cells": [
  {
   "cell_type": "markdown",
   "metadata": {
    "colab_type": "text",
    "id": "view-in-github"
   },
   "source": [
    "<a href=\"https://colab.research.google.com/github/nanopiero/fusion/blob/main/notebooks/fcns/training_B11.ipynb\" target=\"_parent\"><img src=\"https://colab.research.google.com/assets/colab-badge.svg\" alt=\"Open In Colab\"/></a>"
   ]
  },
  {
   "cell_type": "markdown",
   "metadata": {
    "id": "-1ciEeyNevrd"
   },
   "source": [
    "## B1.6 radar + gauges 1 min + cmls -> gauges 1 min [xrlg1_yg1]\n",
    "# mode leave one gauge out"
   ]
  },
  {
   "cell_type": "code",
   "execution_count": null,
   "metadata": {
    "id": "-7O7I9ZuLLvv"
   },
   "outputs": [],
   "source": [
    "! git clone https://github.com/nanopiero/fusion.git"
   ]
  },
  {
   "cell_type": "code",
   "execution_count": 8,
   "metadata": {},
   "outputs": [
    {
     "name": "stdout",
     "output_type": "stream",
     "text": [
      "/home/mdso/lepetitp/ppc/WEBCAMS/src/raincell/ia/notebooks/learning/simulation/fusion/notebooks/fcns\n"
     ]
    }
   ],
   "source": [
    "! pwd"
   ]
  },
  {
   "cell_type": "code",
   "execution_count": 1,
   "metadata": {
    "id": "mU0zdFYCLdgR"
   },
   "outputs": [],
   "source": [
    "import torch\n",
    "import numpy as np\n",
    "import matplotlib.pyplot as plt\n",
    "\n",
    "import os\n",
    "import time\n",
    "import sys\n",
    "sys.path.append('/home/mdso/lepetitp/ppc/WEBCAMS/src/raincell/ia/notebooks/learning/simulation')\n",
    "\n",
    "from fusion.utils.datasets import spatialized_gt, create_cmls_filter, FusionDataset\n",
    "from fusion.utils.datasets import indices_to_sampled_values, get_point_measurements, point_gt, segment_gt, make_noisy_images\n",
    "from torch.utils.data import DataLoader\n",
    "from fusion.utils.fcn import UNet\n",
    "from fusion.utils.cost_functions import QPELoss_fcn, compute_metrics\n",
    "from fusion.utils.viz import set_tensor_values2, plot_images, plot_images_10pts_20seg, plot_results_10pts_20seg"
   ]
  },
  {
   "cell_type": "code",
   "execution_count": 2,
   "metadata": {
    "id": "gLGZHvSIF5NW"
   },
   "outputs": [],
   "source": [
    "# from google.colab import drive\n",
    "# drive.mount('/content/drive')"
   ]
  },
  {
   "cell_type": "code",
   "execution_count": 3,
   "metadata": {
    "id": "P7DnFb_RWwql"
   },
   "outputs": [],
   "source": [
    "# Config\n",
    "num_epochs = 1500\n",
    "save_every = 10\n",
    "path = r'/scratch/mdso/lepetitp/ppc/RAINCELL/models/simulation/checkpoint_fcn_exp_B16_xrlg1_yg1.pt'\n",
    "npairs = 20\n",
    "nsteps = 60\n",
    "ndiscs = 5\n",
    "size_image=64\n",
    "length_dataset = 6400\n",
    "device = torch.device('cuda:0')\n",
    "\n",
    "# Entraînement\n",
    "npoints = 20\n",
    "dataset = FusionDataset(length_dataset=length_dataset,\n",
    "                        npairs=npairs,\n",
    "                        nsteps=nsteps,\n",
    "                        ndiscs=ndiscs, size_image=size_image)\n",
    "\n",
    "\n",
    "loader = DataLoader(dataset, batch_size=64, num_workers=4)\n"
   ]
  },
  {
   "cell_type": "code",
   "execution_count": 4,
   "metadata": {
    "id": "seRZK-_gc-uX"
   },
   "outputs": [],
   "source": [
    "# Tiny UNet V1. 60 new channels for input time series of rain gauges measurements\n",
    "use_fcn = True\n",
    "ch_in = 72 + 60\n",
    "ch_out = nsteps * 3 + 1\n",
    "size = nsteps * 3\n",
    "\n",
    "model = UNet(ch_in, ch_out, size, nb_additional_parameters=16).to(device)\n",
    "optimizer = torch.optim.Adam(model.parameters(), lr=0.005)\n",
    "criterion = QPELoss_fcn()"
   ]
  },
  {
   "cell_type": "code",
   "execution_count": 5,
   "metadata": {
    "id": "f4zwoKtaYKRl"
   },
   "outputs": [],
   "source": [
    "# Boucle avec 5 modes d'évaluation\n",
    "val_steps = ['eval_opportunity_cost_spat',\n",
    "             # 'eval_added_value_few_spat',\n",
    "             # 'eval_added_value_half_spat',\n",
    "             'eval_added_value_full_spat',\n",
    "             # 'eval_added_value_full_id',\n",
    "             ]\n",
    "steps = val_steps + ['train']\n",
    "losses = {step:[] for step in steps}\n",
    "last_epoch = 0"
   ]
  },
  {
   "cell_type": "code",
   "execution_count": 6,
   "metadata": {},
   "outputs": [],
   "source": [
    "checkpoint = torch.load(path, \\\n",
    "                            map_location=device)\n",
    "last_epoch = checkpoint['epoch']\n",
    "losses = checkpoint['train_losses']\n",
    "# best_loss = checkpoint['best_loss']\n",
    "model_weights = checkpoint['model']\n",
    "optimizer_state_dict = checkpoint['optimizer']\n",
    "# scheduler_state_dict = checkpoint['scheduler']\n",
    "model.load_state_dict(model_weights)\n",
    "optimizer.load_state_dict(optimizer_state_dict)\n",
    "# scheduler.load_state_dict(scheduler_state_dict)"
   ]
  },
  {
   "cell_type": "code",
   "execution_count": 7,
   "metadata": {},
   "outputs": [
    {
     "data": {
      "text/plain": [
       "1260"
      ]
     },
     "execution_count": 7,
     "metadata": {},
     "output_type": "execute_result"
    }
   ],
   "source": [
    "last_epoch"
   ]
  },
  {
   "cell_type": "code",
   "execution_count": null,
   "metadata": {
    "id": "BEDbRb1iZG6n"
   },
   "outputs": [
    {
     "name": "stdout",
     "output_type": "stream",
     "text": [
      "epoch n° 1260 \n",
      "\n",
      "eval_opportunity_cost_spat, Regression Loss: 0.0229, Regression Loss 1h: 307.4009, Segmentation Loss:0.0829\n",
      "Train Confusion Matrix:\n",
      "[[3158664   54897]\n",
      " [  69611  556828]]\n",
      "Accuracy: 0.9676, CSI: 0.8173, Sensitivity: 0.8889, Specificity: 0.9829, False Alarm Ratio: 0.0897\n",
      "\n",
      "\n",
      "eval_added_value_full_spat, Regression Loss: 0.0205, Regression Loss 1h: 315.6091, Segmentation Loss:0.0759\n",
      "Train Confusion Matrix:\n",
      "[[3161010   52551]\n",
      " [  63161  563278]]\n",
      "Accuracy: 0.9699, CSI: 0.8296, Sensitivity: 0.8992, Specificity: 0.9836, False Alarm Ratio: 0.0853\n",
      "\n",
      "\n",
      "train, Regression Loss: 0.0217, Regression Loss 1h: 325.4887, Segmentation Loss:0.0759\n",
      "Train Confusion Matrix:\n",
      "[[1786150   27770]\n",
      " [  37954  317726]]\n",
      "Accuracy: 0.9697, CSI: 0.8286, Sensitivity: 0.8933, Specificity: 0.9847, False Alarm Ratio: 0.0804\n",
      "\n",
      "\n",
      "epoch duration : 110.55076360702515\n",
      "saving step\n",
      "epoch n° 1261 \n",
      "\n"
     ]
    }
   ],
   "source": [
    "model.train()\n",
    "\n",
    "for epoch in range(last_epoch, num_epochs + 1):\n",
    "  t = time.time()\n",
    "  print('epoch n°', epoch, '\\n')\n",
    "\n",
    "  running_regression_loss = {step:0.0 for step in steps}\n",
    "  running_regression_loss_1h = {step:0.0 for step in steps}\n",
    "  running_segmentation_loss = {step:0.0 for step in steps}\n",
    "  running_confusion_matrix = {step: np.zeros((2, 2), dtype=int) for step in steps}\n",
    "\n",
    "  for i, (images, pairs, filters) in enumerate(loader):\n",
    "\n",
    "    # ground truth (not usable)\n",
    "    images = images.clone().detach().float().to(device)\n",
    "\n",
    "    # pseudo radar\n",
    "    noisy_images = make_noisy_images(images)\n",
    "\n",
    "    # pseudo CMLs\n",
    "    pairs = pairs.clone().detach().float().to(device)\n",
    "    filters = filters.clone().float().detach().to(device)\n",
    "\n",
    "    # segment_measurements = segment_gt(images, pairs, filters)\n",
    "    _, segment_measurements_fcn = segment_gt(images, pairs, filters,\n",
    "                                             use_fcn=use_fcn)\n",
    "\n",
    "    #Validation steps\n",
    "    model.eval()\n",
    "    with torch.no_grad():\n",
    "\n",
    "      # splitting\n",
    "      np_val_inputs_few = 1\n",
    "      np_val_inputs_half = npoints//4  # 5\n",
    "      np_val_inputs_comp = npoints//2 - np_val_inputs_half - np_val_inputs_few  # 4\n",
    "      np_val_targets = npoints//2 # 10\n",
    "\n",
    "      # val split\n",
    "      split_val = [np_val_inputs_few, np_val_inputs_half, np_val_inputs_comp, np_val_targets]\n",
    "      split_few, split_half, split_comp, split_targets = point_gt(images, npoints=npoints,\n",
    "                                                                    use_fcn=use_fcn,\n",
    "                                                                    split=split_val)\n",
    "      _, point_measurements_fcn_eval_few, _ = split_few\n",
    "      _, point_measurements_fcn_eval_half, _ = split_half\n",
    "      _, point_measurements_fcn_eval_comp, _ = split_comp\n",
    "      _, point_measurements_fcn_val_targets, _ = split_targets\n",
    "\n",
    "      # 4 first val steps (10 last pluvios for testing generalization)\n",
    "      targets = point_measurements_fcn_val_targets\n",
    "\n",
    "      # val step 1 : eval_opportunity_cost_spat\n",
    "      step = 'eval_opportunity_cost_spat'\n",
    "      inputs = torch.cat([noisy_images,\n",
    "                          segment_measurements_fcn,\n",
    "                          0 * point_measurements_fcn_eval_few - 0.1\n",
    "                          ], dim=1)\n",
    "      outputs = model(inputs)\n",
    "      regression_loss, regression_loss_1h, segmentation_loss, loss, batch_cm, _ = criterion(model.p, outputs, targets)\n",
    "      running_regression_loss[step] += regression_loss\n",
    "      running_regression_loss_1h[step] += regression_loss_1h\n",
    "      running_segmentation_loss[step] += segmentation_loss\n",
    "      running_confusion_matrix[step] += batch_cm\n",
    "\n",
    "      del inputs, outputs, loss, regression_loss, regression_loss_1h, segmentation_loss\n",
    "      torch.cuda.empty_cache()\n",
    "\n",
    "\n",
    "      step = 'eval_added_value_full_spat'\n",
    "      point_measurements_fcn_eval_full = point_measurements_fcn_eval_few + \\\n",
    "                                          point_measurements_fcn_eval_half + \\\n",
    "                                          point_measurements_fcn_eval_comp\n",
    "\n",
    "      point_measurements_fcn_eval_full += 2 * 0.1 * (point_measurements_fcn_eval_few >= 0)\n",
    "      point_measurements_fcn_eval_full += 2 * 0.1 * (point_measurements_fcn_eval_half >= 0)\n",
    "      point_measurements_fcn_eval_full += 2 * 0.1 * (point_measurements_fcn_eval_comp >= 0)\n",
    "\n",
    "      point_measurements_fcn_eval_full[point_measurements_fcn_eval_full<0] = -0.1\n",
    "\n",
    "      inputs = torch.cat([noisy_images,\n",
    "                          segment_measurements_fcn,\n",
    "                          point_measurements_fcn_eval_full\n",
    "                          ], dim=1)\n",
    "\n",
    "      outputs = model(inputs)\n",
    "      regression_loss, regression_loss_1h, segmentation_loss, loss, batch_cm, _ = criterion(model.p, outputs, targets)\n",
    "      running_regression_loss[step] += regression_loss\n",
    "      running_regression_loss_1h[step] += regression_loss_1h\n",
    "      running_segmentation_loss[step] += segmentation_loss\n",
    "      running_confusion_matrix[step] += batch_cm\n",
    "\n",
    "      del inputs, loss, regression_loss, regression_loss_1h, segmentation_loss, split_few, split_half, split_comp, split_targets\n",
    "      torch.cuda.empty_cache()\n",
    "\n",
    "      del point_measurements_fcn_eval_full\n",
    "      torch.cuda.empty_cache()\n",
    "\n",
    "    # train step\n",
    "    model.train()\n",
    "    step = 'train'\n",
    "    optimizer.zero_grad()  # Zero the gradients\n",
    "    # leave one gauge out :\n",
    "    for k in range(0,10):\n",
    "        if k == 0 : \n",
    "            ng_train_targets = 1\n",
    "            ng_train_inputs = npoints // 2 - 1\n",
    "            split_train = [np_train_targets, np_train_inputs]\n",
    "            # split  train\n",
    "            split_targets, split_inputs = point_gt(images, npoints=npoints,\n",
    "                                                   use_fcn=use_fcn,\n",
    "                                                   split=split_train)\n",
    "        \n",
    "            _, point_measurements_fcn_train_inputs, _ = split_inputs\n",
    "            _, point_measurements_fcn_train_targets, _ = split_targets\n",
    "            \n",
    "        elif k == 9 : \n",
    "            ng_train_targets = 1\n",
    "            ng_train_inputs = npoints // 2 - 1\n",
    "            split_train = [np_train_inputs, np_train_targets]\n",
    "            # split  train\n",
    "            split_inputs, split_targets = point_gt(images, npoints=npoints,\n",
    "                                                   use_fcn=use_fcn,\n",
    "                                                   split=split_train)\n",
    "        \n",
    "            _, point_measurements_fcn_train_inputs, _ = split_inputs\n",
    "            _, point_measurements_fcn_train_targets, _ = split_targets\n",
    "        else : \n",
    "            ng_train_targets = 1\n",
    "            ng_train_inputs0 = k - 1\n",
    "            ng_train_intputs1 = npoints // 2 - k\n",
    "            split_train = [np_train_inputs0, np_train_targets, np_train_inputs1]\n",
    "            \n",
    "            # split  train\n",
    "            split_inputs0, split_targets, split_inputs1 = point_gt(images, npoints=npoints,\n",
    "                                                                    use_fcn=use_fcn,\n",
    "                                                                    split=split_train)\n",
    "            \n",
    "            _, point_measurements_fcn_train_inputs0, _ = split_inputs0\n",
    "            _, point_measurements_fcn_train_targets, _ = split_targets\n",
    "            _, point_measurements_fcn_train_inputs1, _ = split_inputs1\n",
    "\n",
    "            point_measurements_fcn_train_inputs = point_measurements_fcn_train_inputs0\n",
    "            point_measurements_fcn_train_inputs[point_measurements_fcn_train_inputs1>=0] = \\\n",
    "                        point_measurements_fcn_train_inputs1[point_measurements_fcn_train_inputs1>=0]\n",
    "      \n",
    "        inputs0 = torch.cat([noisy_images,\n",
    "                            segment_measurements_fcn,\n",
    "                            point_measurements_fcn_train_inputs\n",
    "                            ], dim=1)\n",
    "          \n",
    "        inputs1 = torch.cat([noisy_images,\n",
    "                            segment_measurements_fcn,\n",
    "                            point_measurements_fcn_train_targets\n",
    "                            ], dim=1)\n",
    "          \n",
    "        targets0 = point_measurements_fcn_train_targets\n",
    "        targets1 = point_measurements_fcn_train_inputs\n",
    "          \n",
    " \n",
    "        outputs0 = model(inputs0)\n",
    "        outputs1 = model(inputs1)      \n",
    "        regression_loss, regression_loss_1h, segmentation_loss, loss0, batch_cm, _ = criterion(model.p, outputs0, targets0)\n",
    "        _, _, _, loss1, _, _ = criterion(model.p, outputs1, targets1)\n",
    "        loss = loss0 + loss1\n",
    "        loss.backward()  # Backward pass\n",
    "\n",
    "    \n",
    "        running_regression_loss[step] += regression_loss\n",
    "        running_regression_loss_1h[step] += regression_loss_1h\n",
    "        running_segmentation_loss[step] += segmentation_loss\n",
    "        running_confusion_matrix[step] += batch_cm\n",
    "        \n",
    "    optimizer.step()  # Update the weights after the loop\n",
    "    \n",
    "    del split_inputs0, split_inputs1, inputs0, inputs1, outputs0, outputs1, split_targets, loss0, loss1, loss, regression_loss, \n",
    "    del regression_loss_1h, segmentation_loss, noisy_images, images, pairs, filters, segment_measurements_fcn\n",
    "    del point_measurements_fcn_train_targets0, point_measurements_fcn_train_targets1\n",
    "    torch.cuda.empty_cache()\n",
    "\n",
    "  if epoch > 0:\n",
    "    for step in steps:\n",
    "      regression_loss = running_regression_loss[step] / len(loader)\n",
    "      regression_loss_1h = running_regression_loss_1h[step] / len(loader)\n",
    "      segmentation_loss = running_segmentation_loss[step] / len(loader)\n",
    "      losses[step].append((epoch, regression_loss, regression_loss_1h, segmentation_loss, running_confusion_matrix[step]))\n",
    "\n",
    "      print(f'{step}, Regression Loss: {regression_loss:.4f}, Regression Loss 1h: {regression_loss_1h:.4f}, Segmentation Loss:{segmentation_loss:.4f}' )\n",
    "      print(\"Train Confusion Matrix:\")\n",
    "      print(running_confusion_matrix[step])\n",
    "      accuracy, csi, sensitivity, specificity, false_alarm_ratio = compute_metrics(running_confusion_matrix[step])\n",
    "      print(f'Accuracy: {accuracy:.4f}, CSI: {csi:.4f}, Sensitivity: {sensitivity:.4f}, Specificity: {specificity:.4f}, False Alarm Ratio: {false_alarm_ratio:.4f}')\n",
    "      print('\\n')\n",
    "  print('epoch duration :', time.time() - t)\n",
    "\n",
    "  if (epoch % save_every == 0 or \\\n",
    "    epoch == last_epoch):\n",
    "    print(\"saving step\")\n",
    "    checkpoint = { \n",
    "        'epoch': epoch,\n",
    "        'model': model.state_dict(),\n",
    "        'optimizer': optimizer.state_dict(),\n",
    "        # 'scheduler': scheduler.state_dict(),\n",
    "        'train_losses': losses,\n",
    "        }\n",
    "    torch.save(checkpoint, path)  \n",
    "    "
   ]
  },
  {
   "cell_type": "code",
   "execution_count": null,
   "metadata": {},
   "outputs": [],
   "source": []
  }
 ],
 "metadata": {
  "accelerator": "GPU",
  "colab": {
   "gpuType": "T4",
   "include_colab_link": true,
   "machine_shape": "hm",
   "provenance": []
  },
  "kernelspec": {
   "display_name": "Python 3 (ipykernel)",
   "language": "python",
   "name": "python3"
  },
  "language_info": {
   "codemirror_mode": {
    "name": "ipython",
    "version": 3
   },
   "file_extension": ".py",
   "mimetype": "text/x-python",
   "name": "python",
   "nbconvert_exporter": "python",
   "pygments_lexer": "ipython3",
   "version": "3.10.13"
  }
 },
 "nbformat": 4,
 "nbformat_minor": 4
}
