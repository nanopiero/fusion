{
 "cells": [
  {
   "cell_type": "markdown",
   "metadata": {
    "colab_type": "text",
    "id": "view-in-github"
   },
   "source": [
    "<a href=\"https://colab.research.google.com/github/nanopiero/fusion/blob/main/notebooks/fcns/training_A1.ipynb\" target=\"_parent\"><img src=\"https://colab.research.google.com/assets/colab-badge.svg\" alt=\"Open In Colab\"/></a>"
   ]
  },
  {
   "cell_type": "markdown",
   "metadata": {
    "id": "-1ciEeyNevrd"
   },
   "source": [
    "## C11 radar + cmls -> radar + rain gauges 1 min  [xrl_yrg1]\n",
    "12 out channels are added\n",
    "At each loop's step:\n",
    "    - substep 1: segmentation step with the radar mask as target\n",
    "    - substep 2: regression step with raing gauge data as target "
   ]
  },
  {
   "cell_type": "code",
   "execution_count": null,
   "metadata": {
    "id": "-7O7I9ZuLLvv"
   },
   "outputs": [],
   "source": [
    "# ! git clone https://github.com/nanopiero/fusion.git"
   ]
  },
  {
   "cell_type": "code",
   "execution_count": 1,
   "metadata": {
    "id": "mU0zdFYCLdgR"
   },
   "outputs": [],
   "source": [
    "import torch\n",
    "import logging\n",
    "logger = logging.getLogger(\"torch\")\n",
    "logger.setLevel(logging.ERROR)  # Show only errors, ignore warnings\n",
    "\n",
    "import numpy as np\n",
    "import matplotlib.pyplot as plt\n",
    "import os\n",
    "import time\n",
    "import sys\n",
    "sys.path.append('/home/mdso/lepetitp/ppc/WEBCAMS/src/raincell/ia/notebooks/learning/simulation')\n",
    "\n",
    "from fusion.utils.datasets import spatialized_gt, create_cmls_filter, FusionDataset\n",
    "from fusion.utils.datasets import indices_to_sampled_values, get_point_measurements, point_gt, segment_gt, make_noisy_images\n",
    "from torch.utils.data import DataLoader\n",
    "from fusion.utils.fcn import UNet\n",
    "from fusion.utils.cost_functions import QPELoss_fcn, compute_metrics\n",
    "from fusion.utils.viz import set_tensor_values2, plot_images, plot_images_10pts_20seg, plot_results_10pts_20seg"
   ]
  },
  {
   "cell_type": "code",
   "execution_count": 2,
   "metadata": {
    "id": "gLGZHvSIF5NW"
   },
   "outputs": [],
   "source": [
    "# from google.colab import drive\n",
    "# drive.mount('/content/drive')"
   ]
  },
  {
   "cell_type": "code",
   "execution_count": 2,
   "metadata": {
    "id": "pVHvI49CbVb8"
   },
   "outputs": [],
   "source": [
    "# config de base (change en B.):\n",
    "num_epochs = 2000\n",
    "save_every = 10\n",
    "path = r'/scratch/mdso/lepetitp/ppc/RAINCELL/models/simulation/checkpoint_fcn_exp_C11_xrl_yrg1.pt'\n",
    "npoints = 10\n",
    "npairs = 20\n",
    "nsteps = 60\n",
    "ndiscs = 5\n",
    "size_image=64\n",
    "length_dataset = 6400\n",
    "device = torch.device('cuda:0')"
   ]
  },
  {
   "cell_type": "code",
   "execution_count": 3,
   "metadata": {
    "id": "NNNUcnoEMuSN"
   },
   "outputs": [],
   "source": [
    "# Dataset, DataLoader\n",
    "dataset = FusionDataset(length_dataset=length_dataset,\n",
    "                        npairs=npairs,\n",
    "                        nsteps=nsteps,\n",
    "                        ndiscs=ndiscs, size_image=size_image)\n",
    "\n",
    "\n",
    "loader = DataLoader(dataset, batch_size=64, num_workers=8)"
   ]
  },
  {
   "cell_type": "code",
   "execution_count": 4,
   "metadata": {
    "id": "4YvGxXOXubCK"
   },
   "outputs": [],
   "source": [
    "ch_in = 72\n",
    "ch_out = nsteps * 3 + 2*12\n",
    "size = nsteps * 3 \n",
    "\n",
    "model = UNet(ch_in, ch_out, size, nb_additional_parameters=16).to(device)\n",
    "optimizer = torch.optim.Adam(model.parameters(), lr=0.005)"
   ]
  },
  {
   "cell_type": "code",
   "execution_count": 5,
   "metadata": {
    "id": "CophC2EtlVi6"
   },
   "outputs": [],
   "source": [
    "import torch.nn as nn\n",
    "criterion = QPELoss_fcn()\n",
    "criterion_segmentation = nn.CrossEntropyLoss()\n",
    "\n",
    "# Baseline with a FCN\n",
    "use_fcn = True\n",
    "\n",
    "best_loss = [float('inf'), float('inf')]  # Initialize best validation loss to a very high value\n",
    "losses = []\n",
    "last_epoch = 0"
   ]
  },
  {
   "cell_type": "code",
   "execution_count": null,
   "metadata": {
    "id": "FTotEeQ6ZMr3"
   },
   "outputs": [],
   "source": [
    "checkpoint = torch.load(path, \\\n",
    "                            map_location=device)\n",
    "last_epoch = checkpoint['epoch']\n",
    "losses = checkpoint['train_losses']\n",
    "# best_loss = checkpoint['best_loss']\n",
    "model_weights = checkpoint['model']\n",
    "optimizer_state_dict = checkpoint['optimizer']\n",
    "# scheduler_state_dict = checkpoint['scheduler']\n",
    "model.load_state_dict(model_weights)\n",
    "optimizer.load_state_dict(optimizer_state_dict)\n",
    "# scheduler.load_state_dict(scheduler_state_dict)\n",
    "del checkpoint, model_weights, optimizer_state_dict"
   ]
  },
  {
   "cell_type": "code",
   "execution_count": 7,
   "metadata": {},
   "outputs": [
    {
     "data": {
      "text/plain": [
       "0"
      ]
     },
     "execution_count": 7,
     "metadata": {},
     "output_type": "execute_result"
    }
   ],
   "source": [
    "last_epoch"
   ]
  },
  {
   "cell_type": "code",
   "execution_count": null,
   "metadata": {
    "id": "Xk3zPTlFWPsD",
    "scrolled": true
   },
   "outputs": [
    {
     "name": "stdout",
     "output_type": "stream",
     "text": [
      "epoch n° 0\n"
     ]
    }
   ],
   "source": [
    "import warnings\n",
    "warnings.filterwarnings(\"ignore\")\n",
    "model.train()\n",
    "for epoch in range(last_epoch, num_epochs + 1):\n",
    "  print('epoch n°', epoch)\n",
    "  t = time.time()\n",
    "  running_regression_loss = 0.0\n",
    "  running_regression_loss_1h = 0.0\n",
    "  running_segmentation_loss = 0.0\n",
    "  train_confusion_matrix = np.zeros((2, 2), dtype=int)\n",
    "  for i, (images, pairs, filters) in enumerate(loader):\n",
    "\n",
    "    # ground truth (not usable)\n",
    "    images = images.clone().detach().float().to(device)\n",
    "    bs = images.shape[0]\n",
    "      \n",
    "    # pseudo CMLs\n",
    "    pairs = pairs.clone().detach().float().to(device)\n",
    "    filters = filters.clone().float().detach().to(device)\n",
    "\n",
    "    # for transformers :\n",
    "    # segment_measurements = segment_gt(images, pairs, filters)\n",
    "    _, segment_measurements_fcn = segment_gt(images, pairs, filters,\n",
    "                                             use_fcn=use_fcn)\n",
    "\n",
    "    # pseudo pluvios\n",
    "    _, point_measurements_fcn, _ = point_gt(images, npoints=npoints,\n",
    "                                            use_fcn=use_fcn)\n",
    "\n",
    "    # pseudo radar\n",
    "    noisy_images = make_noisy_images(images)\n",
    "\n",
    "    optimizer.zero_grad()  # Zero the gradients\n",
    "    # substep 1 : segmentation on radar targets\n",
    "    inputs = torch.cat([0 * noisy_images, segment_measurements_fcn], dim=1)\n",
    "    targets = noisy_images\n",
    "      \n",
    "    outputs = model(inputs)  # Forward pass\n",
    "    segmentation_radar_output = torch.cat([outputs[:, -2*12:-12, ...].view(bs,1,12,-1),outputs[:, -12:, ...].view(bs,1,12,-1)], dim=1)\n",
    "    loss = criterion_segmentation(segmentation_radar_output, targets.long().view(bs,12,-1))\n",
    "    loss.backward()  # Backward pass\n",
    "      \n",
    "    loss_segmentation_radar = loss.item()\n",
    "\n",
    "      \n",
    "    # prepare inputs and targets\n",
    "    inputs = torch.cat([noisy_images, segment_measurements_fcn], dim=1)\n",
    "    targets = point_measurements_fcn\n",
    "\n",
    "    outputs = model(inputs)  # Forward pass\n",
    "    regression_loss, regression_loss_1h, segmentation_loss, loss, batch_cm, _ = criterion(model.p, outputs, targets)\n",
    "    loss.backward()  # Backward pass\n",
    "\n",
    "    # substep 2\n",
    "    # prepare inputs and targets\n",
    "    inputs = torch.cat([noisy_images, segment_measurements_fcn], dim=1)\n",
    "    targets = point_measurements_fcn\n",
    "\n",
    "    outputs = model(inputs)  # Forward pass\n",
    "    \n",
    "    regression_loss, regression_loss_1h, segmentation_loss, loss, batch_cm, _ = criterion(model.p, outputs, targets)\n",
    "    loss.backward()  # Backward pass\n",
    "    optimizer.step()  # Update the weights\n",
    "\n",
    "      \n",
    "    del inputs, targets, outputs, loss, noisy_images, images, pairs, filters\n",
    "    torch.cuda.empty_cache()\n",
    "    \n",
    "    running_regression_loss += regression_loss\n",
    "    running_regression_loss_1h += regression_loss_1h\n",
    "    running_segmentation_loss += segmentation_loss\n",
    "    train_confusion_matrix += batch_cm\n",
    "\n",
    "  # Calculating average training loss\n",
    "  train_regression_loss = running_regression_loss / len(loader)\n",
    "  train_regression_loss_1h = running_regression_loss_1h / len(loader)\n",
    "  train_segmentation_loss = running_segmentation_loss / len(loader)\n",
    "  losses.append((epoch, train_regression_loss, train_regression_loss_1h, train_segmentation_loss, train_confusion_matrix, loss_segmentation_radar))\n",
    "  print(f'Training, Regression Loss: {train_regression_loss:.4f}, Regression Loss 1h: {train_regression_loss_1h:.4f}, Segmentation Loss:{train_segmentation_loss:.4f}' )\n",
    "  print(\"Train Confusion Matrix:\")\n",
    "  print(train_confusion_matrix)\n",
    "  accuracy, csi, sensitivity, specificity, false_alarm_ratio = compute_metrics(train_confusion_matrix)\n",
    "  print(f'Accuracy: {accuracy:.4f}, CSI: {csi:.4f}, Sensitivity: {sensitivity:.4f}, Specificity: {specificity:.4f}, False Alarm Ratio: {false_alarm_ratio:.4f}')\n",
    "  print('\\n')\n",
    "  print('epoch duration :', time.time() - t)\n",
    "\n",
    "  if (epoch % save_every == 0 or \\\n",
    "    epoch == last_epoch):\n",
    "    print(\"saving step\")\n",
    "    checkpoint = { \n",
    "        'epoch': epoch,\n",
    "        'model': model.state_dict(),\n",
    "        'optimizer': optimizer.state_dict(),\n",
    "        # 'scheduler': scheduler.state_dict(),\n",
    "        'train_losses': losses,\n",
    "        }\n",
    "    torch.save(checkpoint, path)  "
   ]
  }
 ],
 "metadata": {
  "accelerator": "GPU",
  "colab": {
   "gpuType": "T4",
   "include_colab_link": true,
   "machine_shape": "hm",
   "provenance": []
  },
  "kernelspec": {
   "display_name": "Python 3 (ipykernel)",
   "language": "python",
   "name": "python3"
  },
  "language_info": {
   "codemirror_mode": {
    "name": "ipython",
    "version": 3
   },
   "file_extension": ".py",
   "mimetype": "text/x-python",
   "name": "python",
   "nbconvert_exporter": "python",
   "pygments_lexer": "ipython3",
   "version": "3.10.13"
  }
 },
 "nbformat": 4,
 "nbformat_minor": 4
}
