{
 "cells": [
  {
   "cell_type": "markdown",
   "metadata": {
    "colab_type": "text",
    "id": "view-in-github"
   },
   "source": [
    "<a href=\"https://colab.research.google.com/github/nanopiero/fusion/blob/main/notebooks/fcns/training_A1.ipynb\" target=\"_parent\"><img src=\"https://colab.research.google.com/assets/colab-badge.svg\" alt=\"Open In Colab\"/></a>"
   ]
  },
  {
   "cell_type": "markdown",
   "metadata": {
    "id": "-1ciEeyNevrd"
   },
   "source": [
    "## A1 radar + cmls -> rain gauges 1 min  [xrl_yg1]"
   ]
  },
  {
   "cell_type": "code",
   "execution_count": null,
   "metadata": {
    "id": "-7O7I9ZuLLvv"
   },
   "outputs": [],
   "source": [
    "# ! git clone https://github.com/nanopiero/fusion.git"
   ]
  },
  {
   "cell_type": "code",
   "execution_count": 1,
   "metadata": {
    "id": "mU0zdFYCLdgR"
   },
   "outputs": [],
   "source": [
    "import torch\n",
    "import logging\n",
    "logger = logging.getLogger(\"torch\")\n",
    "logger.setLevel(logging.ERROR)  # Show only errors, ignore warnings\n",
    "\n",
    "import numpy as np\n",
    "import matplotlib.pyplot as plt\n",
    "import os\n",
    "import time\n",
    "import sys\n",
    "sys.path.append('/home/mdso/lepetitp/ppc/WEBCAMS/src/raincell/ia/notebooks/learning/simulation')\n",
    "\n",
    "from fusion.utils.datasets import spatialized_gt, create_cmls_filter, FusionDataset\n",
    "from fusion.utils.datasets import indices_to_sampled_values, get_point_measurements, point_gt, segment_gt, make_noisy_images\n",
    "from torch.utils.data import DataLoader\n",
    "from fusion.utils.fcn import UNet\n",
    "from fusion.utils.cost_functions import QPELoss_fcn, compute_metrics\n",
    "from fusion.utils.viz import set_tensor_values2, plot_images, plot_images_10pts_20seg, plot_results_10pts_20seg"
   ]
  },
  {
   "cell_type": "code",
   "execution_count": 2,
   "metadata": {
    "id": "gLGZHvSIF5NW"
   },
   "outputs": [],
   "source": [
    "# from google.colab import drive\n",
    "# drive.mount('/content/drive')"
   ]
  },
  {
   "cell_type": "code",
   "execution_count": 2,
   "metadata": {
    "id": "pVHvI49CbVb8"
   },
   "outputs": [],
   "source": [
    "# config de base (change en B.):\n",
    "num_epochs = 2000\n",
    "save_every = 10\n",
    "path = r'/scratch/mdso/lepetitp/ppc/RAINCELL/models/simulation/checkpoint_fcn_exp_A4_xrl_yg1.pt'\n",
    "npoints = 10\n",
    "npairs = 20\n",
    "nsteps = 60\n",
    "ndiscs = 5\n",
    "size_image=64\n",
    "length_dataset = 6400\n",
    "device = torch.device('cuda:0')"
   ]
  },
  {
   "cell_type": "code",
   "execution_count": 3,
   "metadata": {
    "id": "NNNUcnoEMuSN"
   },
   "outputs": [],
   "source": [
    "# Dataset, DataLoader\n",
    "dataset = FusionDataset(length_dataset=length_dataset,\n",
    "                        npairs=npairs,\n",
    "                        nsteps=nsteps,\n",
    "                        ndiscs=ndiscs, size_image=size_image)\n",
    "\n",
    "\n",
    "loader = DataLoader(dataset, batch_size=64, num_workers=8)"
   ]
  },
  {
   "cell_type": "code",
   "execution_count": 11,
   "metadata": {
    "id": "4YvGxXOXubCK"
   },
   "outputs": [],
   "source": [
    "ch_in = 72\n",
    "ch_out = nsteps * 3\n",
    "size = nsteps * 3\n",
    "\n",
    "model = UNet(ch_in, ch_out, size, nb_additional_parameters=16).to(device)\n",
    "optimizer = torch.optim.Adam(model.parameters(), lr=0.005)"
   ]
  },
  {
   "cell_type": "code",
   "execution_count": 12,
   "metadata": {},
   "outputs": [],
   "source": [
    "import torch\n",
    "import torch.nn as nn\n",
    "from sklearn.metrics import confusion_matrix\n",
    "class QPELoss_fcn_train_A4(nn.Module):\n",
    "\n",
    "    def __init__(self, eval_qpe_1h = False, eval_independent_qpe_1h=False, eval_segments=False):\n",
    "        super(QPELoss_fcn_train_A4, self).__init__()\n",
    "        self.regression_loss = nn.MSELoss()\n",
    "        self.segmentation_loss = nn.CrossEntropyLoss()\n",
    "        self.eval_qpe_1h = eval_qpe_1h\n",
    "        self.eval_independent_qpe_1h = eval_independent_qpe_1h\n",
    "        self.eval_segments = eval_segments\n",
    "\n",
    "    def forward(self, p, outputs, targets, sampled_values_and_filters=None):\n",
    "\n",
    "      # sans supervision imparfaite, avec spatialisation\n",
    "      bs, nsteps, S, _ = targets.shape\n",
    "      targets = targets.view(bs, 1, nsteps, S**2)\n",
    "      mask = (targets>=0)\n",
    "      masked_targets = targets[mask]\n",
    "      outputs_rnr0 = outputs[:, :nsteps, ...].view(bs, 1, nsteps, S**2)\n",
    "      outputs_rnr1 = outputs[:, nsteps:2*nsteps, ...].view(bs, 1, nsteps, S**2)\n",
    "      masked_outputs_rnr = torch.cat([outputs_rnr0[mask].view(bs, 1, -1), outputs_rnr1[mask].view(bs, 1, -1)], dim=1)\n",
    "      masked_targets_rnr =  (masked_targets > 0).long().view(bs, -1)\n",
    "      outputs_qpe = outputs[:, 2*nsteps:3*nsteps , ...]\\\n",
    "                                .view(bs, 1, nsteps, S**2)\n",
    "\n",
    "      masked_outputs_qpe = outputs_qpe[mask]\n",
    "      masked_targets_qpe = masked_targets\n",
    "\n",
    "      loss_rnr = self.segmentation_loss(masked_outputs_rnr, masked_targets_rnr)\n",
    "      loss_qpe_1min = self.regression_loss(masked_outputs_qpe, masked_targets_qpe)\n",
    "      loss = 1/(2*p[0]**2) * loss_qpe_1min + 1/(2*p[1]**2) * loss_rnr\n",
    "      \n",
    "\n",
    "      if self.eval_qpe_1h:\n",
    "        loss_qpe_1h = self.regression_loss(outputs_qpe.sum(dim=2)[mask[:, :, 0, ...]],\n",
    "                                           targets.sum(dim=2)[mask[:, :, 0, ...]])\n",
    "        loss += 1/(2*p[2]**2) * loss_qpe_1h\n",
    "\n",
    "      elif self.eval_independent_qpe_1h:\n",
    "        outputs_qpe_1h = outputs[:, 3*nsteps, ...]\\\n",
    "                                .view(bs, 1, S**2)\n",
    "          \n",
    "        loss_qpe_1h = self.regression_loss(outputs_qpe_1h[mask[:, :, 0, ...]],\n",
    "                                           targets.sum(dim=2)[mask[:, :, 0, ...]])   \n",
    "        loss += 1/(2*p[2]**2) * loss_qpe_1h\n",
    "      else:\n",
    "        with torch.no_grad():\n",
    "            loss_qpe_1h = self.regression_loss(outputs_qpe.sum(dim=2)[mask[:, :, 0, ...]],\n",
    "                                               targets.sum(dim=2)[mask[:, :, 0, ...]])\n",
    "          \n",
    "          \n",
    "      if self.eval_segments:\n",
    "          sampled_values, filters = sampled_values_and_filters\n",
    "          #Pas très joli : on aurait aimé appler outputs_QPE, mais il a été applati\n",
    "          filtered_outputs = outputs[:, 2*nsteps:3*nsteps , ...].unsqueeze(dim=2) * \\\n",
    "                             filters.unsqueeze(dim=1)\n",
    "          sampled_pred_values = torch.sum(filtered_outputs,\\\n",
    "                            dim=(3,4))\n",
    "          loss_segments = self.regression_loss(sampled_pred_values, sampled_values)\n",
    "          loss += 1/(2*p[3]**2) * loss_segments\n",
    "      else:\n",
    "          loss_segments = 0.\n",
    "\n",
    "      loss += torch.log(1 + p[0]**2 + p[1]**2 + self.eval_qpe_1h * p[2]**2 + self.eval_independent_qpe_1h * p[2]**2 + self.eval_segments * p[3]**2)\n",
    "\n",
    "\n",
    "      with torch.no_grad():\n",
    "        preds = masked_outputs_rnr.argmax(dim=1).flatten().cpu().numpy()\n",
    "        targets = masked_targets_rnr.flatten().cpu().numpy()\n",
    "        # Compute the confusion matrix\n",
    "        cm = confusion_matrix(targets, preds, labels=np.arange(2))\n",
    "\n",
    "      if self.eval_segments:\n",
    "          return loss_qpe_1min.item(), loss_qpe_1h.item(), loss_rnr.item(), loss, cm, loss_segments.item()\n",
    "      else:\n",
    "          return loss_qpe_1min.item(), loss_qpe_1h.item(), loss_rnr.item(), loss, cm, loss_segments\n",
    "\n"
   ]
  },
  {
   "cell_type": "code",
   "execution_count": 13,
   "metadata": {
    "id": "CophC2EtlVi6"
   },
   "outputs": [],
   "source": [
    "criterion_train = QPELoss_fcn_train_A4()\n",
    "criterion_val = QPELoss_fcn()\n",
    "# Baseline with a FCN\n",
    "use_fcn = True\n",
    "\n",
    "best_loss = [float('inf'), float('inf')]  # Initialize best validation loss to a very high value\n",
    "# Boucle avec 5 modes d'évaluation\n",
    "val_steps = ['val'\n",
    "             ]\n",
    "steps = val_steps + ['train']\n",
    "losses = {step:[] for step in steps}\n",
    "last_epoch = 0"
   ]
  },
  {
   "cell_type": "code",
   "execution_count": null,
   "metadata": {
    "id": "FTotEeQ6ZMr3"
   },
   "outputs": [],
   "source": [
    "checkpoint = torch.load(path, \\\n",
    "                            map_location=device)\n",
    "last_epoch = checkpoint['epoch']\n",
    "losses = checkpoint['train_losses']\n",
    "# best_loss = checkpoint['best_loss']\n",
    "model_weights = checkpoint['model']\n",
    "optimizer_state_dict = checkpoint['optimizer']\n",
    "# scheduler_state_dict = checkpoint['scheduler']\n",
    "model.load_state_dict(model_weights)\n",
    "optimizer.load_state_dict(optimizer_state_dict)\n",
    "# scheduler.load_state_dict(scheduler_state_dict)\n",
    "del checkpoint, model_weights, optimizer_state_dict"
   ]
  },
  {
   "cell_type": "code",
   "execution_count": 14,
   "metadata": {},
   "outputs": [
    {
     "data": {
      "text/plain": [
       "0"
      ]
     },
     "execution_count": 14,
     "metadata": {},
     "output_type": "execute_result"
    }
   ],
   "source": [
    "last_epoch"
   ]
  },
  {
   "cell_type": "code",
   "execution_count": null,
   "metadata": {
    "id": "Xk3zPTlFWPsD",
    "scrolled": true
   },
   "outputs": [
    {
     "name": "stdout",
     "output_type": "stream",
     "text": [
      "epoch n° 0\n"
     ]
    }
   ],
   "source": [
    "import warnings\n",
    "warnings.filterwarnings(\"ignore\")\n",
    "model.train()\n",
    "for epoch in range(last_epoch, num_epochs + 1):\n",
    "  print('epoch n°', epoch)\n",
    "  t = time.time()\n",
    "  running_regression_loss = {step:0.0 for step in steps}\n",
    "  running_regression_loss_1h = {step:0.0 for step in steps}\n",
    "  running_segmentation_loss = {step:0.0 for step in steps}\n",
    "  running_confusion_matrix = {step: np.zeros((2, 2), dtype=int) for step in steps}\n",
    "    \n",
    "  for i, (images, pairs, filters) in enumerate(loader):\n",
    "\n",
    "    # ground truth (not usable)\n",
    "    images = images.clone().detach().float().to(device)\n",
    "\n",
    "    # pseudo CMLs\n",
    "    pairs = pairs.clone().detach().float().to(device)\n",
    "    filters = filters.clone().float().detach().to(device)\n",
    "\n",
    "    # for transformers :\n",
    "    # segment_measurements = segment_gt(images, pairs, filters)\n",
    "    _, segment_measurements_fcn = segment_gt(images, pairs, filters,\n",
    "                                             use_fcn=use_fcn)\n",
    "\n",
    "    # pseudo pluvios\n",
    "    _, point_measurements_fcn, _ = point_gt(images, npoints=npoints,\n",
    "                                            use_fcn=use_fcn)\n",
    "\n",
    "    # pseudo radar\n",
    "    noisy_images = make_noisy_images(images)\n",
    "\n",
    "    # prepare inputs and targets\n",
    "    inputs = torch.cat([noisy_images, segment_measurements_fcn], dim=1)\n",
    "    targets = point_measurements_fcn\n",
    "\n",
    "    # phase val\n",
    "    step = 'val'\n",
    "    model.eval()\n",
    "    with torch.no_grad():\n",
    "        outputs = model(inputs)\n",
    "        regression_loss, regression_loss_1h, segmentation_loss, loss, batch_cm, _ = criterion_val(model.p, outputs, targets)\n",
    "        \n",
    "    del outputs, loss\n",
    "    torch.cuda.empty_cache()\n",
    "      \n",
    "    running_regression_loss[step] += regression_loss\n",
    "    running_regression_loss_1h[step] += regression_loss_1h\n",
    "    running_segmentation_loss[step] += segmentation_loss\n",
    "    running_confusion_matrix[step] += batch_cm\n",
    "      \n",
    "    # phase train\n",
    "    step = 'train'\n",
    "    model.train()\n",
    "    optimizer.zero_grad()  # Zero the gradients\n",
    "    outputs = model(inputs)  # Forward pass\n",
    "\n",
    "    regression_loss, regression_loss_1h, segmentation_loss, loss, batch_cm, _ = criterion_train(model.p, outputs, targets)\n",
    "    loss.backward()  # Backward pass\n",
    "    optimizer.step()  # Update the weights\n",
    "\n",
    "      \n",
    "    del inputs, targets, outputs, loss, noisy_images, images, pairs, filters\n",
    "    torch.cuda.empty_cache()\n",
    "    \n",
    "    running_regression_loss[step] += regression_loss\n",
    "    running_regression_loss_1h[step] += regression_loss_1h\n",
    "    running_segmentation_loss[step] += segmentation_loss\n",
    "    running_confusion_matrix[step] += batch_cm\n",
    "\n",
    "\n",
    "  if epoch > 0:\n",
    "    for step in steps:\n",
    "      regression_loss = running_regression_loss[step] / len(loader)\n",
    "      regression_loss_1h = running_regression_loss_1h[step] / len(loader)\n",
    "      segmentation_loss = running_segmentation_loss[step] / len(loader)\n",
    "      losses[step].append((epoch, regression_loss, regression_loss_1h, segmentation_loss, running_confusion_matrix[step]))\n",
    "\n",
    "      print(f'{step}, Regression Loss: {regression_loss:.4f}, Regression Loss 1h: {regression_loss_1h:.4f}, Segmentation Loss:{segmentation_loss:.4f}' )\n",
    "      print(\"Train Confusion Matrix:\")\n",
    "      print(running_confusion_matrix[step])\n",
    "      accuracy, csi, sensitivity, specificity, false_alarm_ratio = compute_metrics(running_confusion_matrix[step])\n",
    "      print(f'Accuracy: {accuracy:.4f}, CSI: {csi:.4f}, Sensitivity: {sensitivity:.4f}, Specificity: {specificity:.4f}, False Alarm Ratio: {false_alarm_ratio:.4f}')\n",
    "      print('\\n')\n",
    "  print('epoch duration :', time.time() - t)\n",
    "\n",
    "\n",
    "  if (epoch % save_every == 0 or \\\n",
    "    epoch == last_epoch):\n",
    "    print(\"saving step\")\n",
    "    checkpoint = { \n",
    "        'epoch': epoch,\n",
    "        'model': model.state_dict(),\n",
    "        'optimizer': optimizer.state_dict(),\n",
    "        # 'scheduler': scheduler.state_dict(),\n",
    "        'train_losses': losses,\n",
    "        }\n",
    "    torch.save(checkpoint, path)  "
   ]
  },
  {
   "cell_type": "code",
   "execution_count": null,
   "metadata": {},
   "outputs": [],
   "source": []
  }
 ],
 "metadata": {
  "accelerator": "GPU",
  "colab": {
   "gpuType": "T4",
   "include_colab_link": true,
   "machine_shape": "hm",
   "provenance": []
  },
  "kernelspec": {
   "display_name": "Python 3 (ipykernel)",
   "language": "python",
   "name": "python3"
  },
  "language_info": {
   "codemirror_mode": {
    "name": "ipython",
    "version": 3
   },
   "file_extension": ".py",
   "mimetype": "text/x-python",
   "name": "python",
   "nbconvert_exporter": "python",
   "pygments_lexer": "ipython3",
   "version": "3.10.13"
  }
 },
 "nbformat": 4,
 "nbformat_minor": 4
}
