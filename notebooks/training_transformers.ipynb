{
  "cells": [
    {
      "cell_type": "markdown",
      "metadata": {
        "id": "view-in-github",
        "colab_type": "text"
      },
      "source": [
        "<a href=\"https://colab.research.google.com/github/nanopiero/fusion/blob/main/notebooks/training.ipynb\" target=\"_parent\"><img src=\"https://colab.research.google.com/assets/colab-badge.svg\" alt=\"Open In Colab\"/></a>"
      ]
    },
    {
      "cell_type": "markdown",
      "source": [
        "## Plan d'expérience:\n",
        "\n",
        "Régression\n",
        "\n",
        "      - A.baseline radar cmls -> pluvios\n",
        "\n",
        "Fusion, fusion multitâche\n",
        "\n",
        "    - B.baseline radar + pluvio 1 min + cmls -> pluvios + cmls\n",
        "\n",
        "    - C.tâches aux. 1.  A + tâche aux : -> val cml x masque segment x masque radar + val pluvio x masque pluvio x masque radar\n",
        "\n",
        "    - D. tâches aux 2. tâche reconstruction PPI.\n",
        "      - idée : f(radar[random_sample1], w) = y[70 x 64 x 64].  \n",
        "         ft de coût : ||f(radar[random_sample1])[random_sample1_bar] - target ||\n",
        "         + loss adversariale -> impossibilité de retrouver les indices renseignés\n",
        "\n",
        "    - E. tâche aux 1 + tâche aux 2. A + (B) + c\n",
        "\n",
        "Régression faiblement supervisée\n",
        "\n",
        "    - E. introduction d'un bruit dans les CMLs et les pluvios\n",
        "\n",
        "    - F. correction de l'effet du bruit dans les CMLs dans la loss (weak. sup.)\n",
        "\n",
        "    - G. correction de l'effet du bruit par un réseau auxilaire (// denoising)\n",
        "\n",
        "\n",
        "\n"
      ],
      "metadata": {
        "id": "-1ciEeyNevrd"
      }
    },
    {
      "cell_type": "markdown",
      "source": [
        "# Partie I : régression"
      ],
      "metadata": {
        "id": "JdJDsQ_lMTv9"
      }
    },
    {
      "cell_type": "code",
      "source": [
        "! git clone https://github.com/nanopiero/fusion.git"
      ],
      "metadata": {
        "colab": {
          "base_uri": "https://localhost:8080/"
        },
        "id": "-7O7I9ZuLLvv",
        "outputId": "fafb08ef-e9b5-4cfa-badf-f9735c3f6084"
      },
      "execution_count": 28,
      "outputs": [
        {
          "output_type": "stream",
          "name": "stdout",
          "text": [
            "Cloning into 'fusion'...\n",
            "remote: Enumerating objects: 150, done.\u001b[K\n",
            "remote: Counting objects: 100% (150/150), done.\u001b[K\n",
            "remote: Compressing objects: 100% (149/149), done.\u001b[K\n",
            "remote: Total 150 (delta 91), reused 4 (delta 0), pack-reused 0\u001b[K\n",
            "Receiving objects: 100% (150/150), 6.60 MiB | 10.14 MiB/s, done.\n",
            "Resolving deltas: 100% (91/91), done.\n"
          ]
        }
      ]
    },
    {
      "cell_type": "code",
      "execution_count": 29,
      "metadata": {
        "id": "mU0zdFYCLdgR"
      },
      "outputs": [],
      "source": [
        "# Imports des bibliothèques utiles\n",
        "# pour l'IA\n",
        "import torch\n",
        "# pour les maths\n",
        "import numpy as np\n",
        "# pour afficher des images et des courbes\n",
        "import matplotlib.pyplot as plt\n",
        "\n",
        "from random import randint\n",
        "import os\n",
        "\n",
        "# imports des fichiers locaux\n",
        "os.chdir('fusion')\n",
        "import utile_fusion\n",
        "# import importlib\n",
        "# importlib.reload(utile_fusion)\n",
        "\n",
        "# Import des fonctions génératrices exploitées à l'échelle de l'image\n",
        "from utile_fusion import spatialized_gt, create_cmls_filter\n",
        "# Import loading tools\n",
        "from utile_fusion import FusionDataset\n",
        "from torch.utils.data import DataLoader\n",
        "# Import des fonctions utilisées à l'échelle du batch, sur carte GPU\n",
        "from utile_fusion import indices_to_sampled_values, get_point_measurements, point_gt, segment_gt, make_noisy_images\n",
        "# Import cost functions\n",
        "from utile_fusion import QPELoss_fcn, compute_metrics\n",
        "# Import des fonctions de visualisation\n",
        "from utile_fusion import set_tensor_values2, plot_images, plot_images_10pts_20seg, plot_results_10pts_20seg\n"
      ]
    },
    {
      "cell_type": "code",
      "source": [
        "# config:\n",
        "npoints = 10\n",
        "npairs = 20\n",
        "nsteps = 60\n",
        "ndiscs = 5\n",
        "size_image=64\n",
        "length_dataset = 6400\n",
        "device = torch.device('cuda:0')"
      ],
      "metadata": {
        "id": "pVHvI49CbVb8"
      },
      "execution_count": 30,
      "outputs": []
    },
    {
      "cell_type": "code",
      "source": [
        "# Dataset, DataLoader\n",
        "dataset = FusionDataset(length_dataset=length_dataset,\n",
        "                        npairs=npairs,\n",
        "                        nsteps=nsteps,\n",
        "                        ndiscs=ndiscs, size_image=size_image)\n",
        "\n",
        "\n",
        "loader = DataLoader(dataset, batch_size=64, num_workers=4)"
      ],
      "metadata": {
        "id": "NNNUcnoEMuSN"
      },
      "execution_count": 31,
      "outputs": []
    },
    {
      "cell_type": "code",
      "source": [
        "# Petit UNet\n",
        "from utile_fusion import UNet\n",
        "ch_in = 72\n",
        "ch_out = nsteps * 3\n",
        "size = nsteps * 3\n",
        "\n",
        "model = UNet(ch_in, ch_out, size).to(device)\n",
        "optimizer = torch.optim.Adam(model.parameters(), lr=0.005)"
      ],
      "metadata": {
        "id": "4YvGxXOXubCK"
      },
      "execution_count": 32,
      "outputs": []
    },
    {
      "cell_type": "code",
      "source": [
        "from google.colab import drive\n",
        "drive.mount('/content/drive')"
      ],
      "metadata": {
        "colab": {
          "base_uri": "https://localhost:8080/"
        },
        "id": "gLGZHvSIF5NW",
        "outputId": "028a87bd-98b4-4bd6-c275-7f68b89e3dc5"
      },
      "execution_count": 24,
      "outputs": [
        {
          "output_type": "stream",
          "name": "stdout",
          "text": [
            "Drive already mounted at /content/drive; to attempt to forcibly remount, call drive.mount(\"/content/drive\", force_remount=True).\n"
          ]
        }
      ]
    },
    {
      "cell_type": "code",
      "source": [
        "path = r'/content/drive/MyDrive/rainCell/fusion/models/checkpoint_fcn_08062024.pt'\n",
        "\n",
        "checkpoint = torch.load(path, \\\n",
        "                            map_location=device)\n",
        "last_epoch = checkpoint['epoch']\n",
        "train_losses = checkpoint['train_losses']\n",
        "# best_loss = checkpoint['best_loss']\n",
        "model_weights = checkpoint['model']\n",
        "optimizer_state_dict = checkpoint['optimizer']\n",
        "# scheduler_state_dict = checkpoint['scheduler']\n",
        "# model.load_state_dict(model_weights)\n",
        "# optimizer.load_state_dict(optimizer_state_dict)\n",
        "# scheduler.load_state_dict(scheduler_state_dict)"
      ],
      "metadata": {
        "id": "FTotEeQ6ZMr3"
      },
      "execution_count": null,
      "outputs": []
    },
    {
      "cell_type": "code",
      "source": [
        "criterion = QPELoss_fcn()\n",
        "\n",
        "# Baseline with a FCN\n",
        "use_fcn = True\n",
        "\n",
        "best_loss = [float('inf'), float('inf')]  # Initialize best validation loss to a very high value\n",
        "train_losses = []"
      ],
      "metadata": {
        "id": "CophC2EtlVi6"
      },
      "execution_count": 40,
      "outputs": []
    },
    {
      "cell_type": "code",
      "source": [
        "model.train()\n",
        "for epoch in range(100):\n",
        "\n",
        "  running_regression_loss = 0.0\n",
        "  running_segmentation_loss = 0.0\n",
        "  train_confusion_matrix = np.zeros((2, 2), dtype=int)\n",
        "  for i, (images, pairs, filters) in enumerate(loader):\n",
        "\n",
        "    # ground truth (not usable)\n",
        "    images = images.clone().detach().float().to(device)\n",
        "\n",
        "    # pseudo CMLs\n",
        "    pairs = pairs.clone().detach().float().to(device)\n",
        "    filters = filters.clone().float().detach().to(device)\n",
        "\n",
        "    # for transformers :\n",
        "    # segment_measurements = segment_gt(images, pairs, filters)\n",
        "    _, segment_measurements_fcn = segment_gt(images, pairs, filters,\n",
        "                                             use_fcn=use_fcn)\n",
        "\n",
        "    # pseudo pluvios\n",
        "    _, point_measurements_fcn, _ = point_gt(images, npoints=npoints,\n",
        "                                            use_fcn=use_fcn)\n",
        "\n",
        "\n",
        "    # pseudo radar\n",
        "    noisy_images = make_noisy_images(images)\n",
        "\n",
        "    # prepare inputs and targets\n",
        "    inputs = torch.cat([noisy_images, segment_measurements_fcn], dim=1)\n",
        "    targets = point_measurements_fcn\n",
        "\n",
        "\n",
        "    optimizer.zero_grad()  # Zero the gradients\n",
        "    outputs = model(inputs)  # Forward pass\n",
        "\n",
        "    regression_loss, segmentation_loss, loss, batch_cm = criterion(model.p, outputs, targets)\n",
        "    loss.backward()  # Backward pass\n",
        "    optimizer.step()  # Update the weights\n",
        "\n",
        "    del inputs, targets, outputs, loss, noisy_images, images, pairs, filters\n",
        "    torch.cuda.empty_cache()\n",
        "\n",
        "    running_regression_loss += regression_loss\n",
        "    running_segmentation_loss += segmentation_loss\n",
        "    train_confusion_matrix += batch_cm\n",
        "\n",
        "  # Calculating average training loss\n",
        "  train_regression_loss = running_regression_loss / len(loader)\n",
        "  train_segmentation_loss = running_segmentation_loss / len(loader)\n",
        "  train_losses.append((epoch, train_regression_loss, train_segmentation_loss, train_confusion_matrix))\n",
        "  print(f'Training, Regression Loss: {train_regression_loss:.4f}, Segmentation Loss:{train_segmentation_loss:.4f}' )\n",
        "  print(\"Train Confusion Matrix:\")\n",
        "  print(train_confusion_matrix)\n",
        "  accuracy, csi, sensitivity, specificity, false_alarm_ratio = compute_metrics(train_confusion_matrix)\n",
        "  print(f'Accuracy: {accuracy:.4f}, CSI: {csi:.4f}, Sensitivity: {sensitivity:.4f}, Specificity: {specificity:.4f}, False Alarm Ratio: {false_alarm_ratio:.4f}')\n",
        "  print('\\n')\n"
      ],
      "metadata": {
        "id": "Xk3zPTlFWPsD"
      },
      "execution_count": null,
      "outputs": []
    },
    {
      "cell_type": "code",
      "source": [
        "#100 époques : 2h28\n",
        "\n",
        "# checkpoint = {\n",
        "#     'epoch': epoch,\n",
        "#     'model': model.state_dict(),\n",
        "#     'optimizer': optimizer.state_dict(),\n",
        "#     # 'scheduler': scheduler.state_dict(),\n",
        "#     'train_losses': train_losses,\n",
        "#     }\n",
        "# torch.save(checkpoint, path)"
      ],
      "metadata": {
        "id": "LBsQkCXlB2Ae"
      },
      "execution_count": 42,
      "outputs": []
    },
    {
      "cell_type": "code",
      "source": [
        "i = -1\n",
        "j = 1\n",
        "csi_values = [compute_metrics(x[i])[j] for x in train_losses]\n",
        "plt.plot(csi_values)"
      ],
      "metadata": {
        "colab": {
          "base_uri": "https://localhost:8080/",
          "height": 449
        },
        "id": "uVP8DMTg0-HR",
        "outputId": "63eca3d3-3d93-47f6-9545-5fd862376508"
      },
      "execution_count": 43,
      "outputs": [
        {
          "output_type": "execute_result",
          "data": {
            "text/plain": [
              "[<matplotlib.lines.Line2D at 0x7e73aee7a0e0>]"
            ]
          },
          "metadata": {},
          "execution_count": 43
        },
        {
          "output_type": "display_data",
          "data": {
            "text/plain": [
              "<Figure size 640x480 with 1 Axes>"
            ],
            "image/png": "[encoded data removed]"
          },
          "metadata": {}
        }
      ]
    },
    {
      "cell_type": "code",
      "source": [
        "# Tracé output\n",
        "model.eval()\n",
        "\n",
        "with torch.no_grad():\n",
        "\n",
        "  running_regression_loss = 0.0\n",
        "  running_segmentation_loss = 0.0\n",
        "  train_confusion_matrix = np.zeros((2, 2), dtype=int)\n",
        "\n",
        "  for i, (images, pairs, filters) in enumerate(loader):\n",
        "\n",
        "    # ground truth (not usable)\n",
        "    images = images.clone().detach().float().to(device)\n",
        "\n",
        "    # pseudo CMLs\n",
        "    pairs = pairs.clone().detach().float().to(device)\n",
        "    filters = filters.clone().float().detach().to(device)\n",
        "\n",
        "    # generation point and segment measurements\n",
        "    # segment_measurements = segment_gt(images, pairs, filters)\n",
        "    segment_measurements, segment_measurements_fcn = segment_gt(images, pairs, filters, use_fcn=use_fcn)\n",
        "\n",
        "    # pseudo pluvios\n",
        "    point_measurements, point_measurements_fcn, (indices, rows, cols) = \\\n",
        "                        point_gt(images, npoints=npoints, use_fcn=use_fcn)\n",
        "\n",
        "    # pseudo radar\n",
        "    noisy_images = make_noisy_images(images)\n",
        "\n",
        "    # prepare inputs and targets\n",
        "    inputs = torch.cat([noisy_images, segment_measurements_fcn], dim=1)\n",
        "    targets = point_measurements_fcn\n",
        "    outputs = model(inputs)\n",
        "    mask_rnr = outputs[:, :nsteps,...] < outputs[:, nsteps:2*nsteps,...]\n",
        "    images_pred = (mask_rnr * outputs[:, 2*nsteps:3*nsteps, ...]).detach()\n",
        "\n",
        "    # segment_measurements = segment_gt(images, pairs, filters)\n",
        "    segment_measurements_pred, _ = segment_gt(images_pred,\n",
        "                                              pairs,\n",
        "                                              filters,\n",
        "                                              use_fcn=use_fcn)\n",
        "\n",
        "    # pseudo pluvios\n",
        "    sampled_values_pred = indices_to_sampled_values(images_pred, indices)\n",
        "    point_measurements_pred = get_point_measurements(rows, cols,\n",
        "                                                     sampled_values_pred,\n",
        "                                                     size_image)\n",
        "\n",
        "    break\n",
        "\n",
        "\n",
        "\n",
        "\n",
        "\n"
      ],
      "metadata": {
        "id": "LGSWJattoAmz"
      },
      "execution_count": 46,
      "outputs": []
    },
    {
      "cell_type": "code",
      "source": [
        "\"\"\"\n",
        "mask_rnr = outputs[:, :nsteps,...] < outputs[:, nsteps:2*nsteps,...]\n",
        "images_pred = (mask_rnr * outputs[:, 2*nsteps:3*nsteps, ...]).detach()\n",
        "k=1\n",
        "plot_images_10pts_20seg(3*images_pred[k,...].cpu().numpy() + filters[k,...].cpu().numpy().sum(axis=0),\n",
        "            noisy_images[k,...].cpu().numpy(),\n",
        "            point_measurements[k,...].cpu().numpy(),\n",
        "            segment_measurements[k,...].cpu().numpy())\n",
        "\"\"\""
      ],
      "metadata": {
        "id": "YdcggJIhoAj7"
      },
      "execution_count": null,
      "outputs": []
    },
    {
      "cell_type": "code",
      "source": [
        "k=0\n",
        "plot_results_10pts_20seg(3*images[k,...].cpu().numpy() + filters[k,...].cpu().numpy().sum(axis=0),\n",
        "                         noisy_images[k,...].cpu().numpy(),\n",
        "                         point_measurements[k,...].cpu().numpy(),\n",
        "                         segment_measurements[k,...].cpu().numpy(),\n",
        "                         3*images_pred[k,...].cpu().numpy() + filters[k,...].cpu().numpy().sum(axis=0),\n",
        "                         (images_pred[k, torch.arange(4, 60, 5), ...] > 0).long().cpu().numpy(),\n",
        "                         point_measurements_pred[k,...].cpu().numpy(), #_pred,\n",
        "                         segment_measurements_pred[k,...].cpu().numpy()) #_pred)"
      ],
      "metadata": {
        "id": "4jbQK-H-Zvx9"
      },
      "execution_count": null,
      "outputs": []
    },
    {
      "cell_type": "code",
      "source": [],
      "metadata": {
        "id": "N0LwaOuMZvvB"
      },
      "execution_count": null,
      "outputs": []
    },
    {
      "cell_type": "code",
      "source": [],
      "metadata": {
        "id": "lL-DnpLGZvr9"
      },
      "execution_count": null,
      "outputs": []
    },
    {
      "cell_type": "code",
      "source": [],
      "metadata": {
        "id": "7nRmJQB3ZvpU"
      },
      "execution_count": null,
      "outputs": []
    },
    {
      "cell_type": "code",
      "source": [],
      "metadata": {
        "id": "PARXg6M1Zvms"
      },
      "execution_count": null,
      "outputs": []
    },
    {
      "cell_type": "code",
      "source": [],
      "metadata": {
        "id": "zmTxWcUbZvkN"
      },
      "execution_count": null,
      "outputs": []
    },
    {
      "cell_type": "code",
      "source": [],
      "metadata": {
        "id": "6fsUCDmZZvht"
      },
      "execution_count": null,
      "outputs": []
    },
    {
      "cell_type": "code",
      "source": [],
      "metadata": {
        "id": "PxNeyH4oZvfI"
      },
      "execution_count": null,
      "outputs": []
    },
    {
      "cell_type": "code",
      "source": [],
      "metadata": {
        "id": "ib6gVcwAZvcP"
      },
      "execution_count": null,
      "outputs": []
    },
    {
      "cell_type": "code",
      "source": [],
      "metadata": {
        "id": "9G1QUnujZvZd"
      },
      "execution_count": null,
      "outputs": []
    },
    {
      "cell_type": "code",
      "source": [],
      "metadata": {
        "id": "AGtZha4VoAej"
      },
      "execution_count": null,
      "outputs": []
    },
    {
      "cell_type": "code",
      "source": [],
      "metadata": {
        "id": "dnePd4g_oAb0"
      },
      "execution_count": null,
      "outputs": []
    },
    {
      "cell_type": "code",
      "source": [
        "# Archi\n",
        "\n",
        "# cas d'un \"fusion transformer 4d\"\n",
        "# Paramètres du modèle :\n",
        "image_size = [64,64]\n",
        "channels = 1\n",
        "patch_size = 4\n",
        "d_model = 120\n",
        "mlp_expansion_ratio = 4\n",
        "d_ff = mlp_expansion_ratio * d_model\n",
        "n_heads = 4\n",
        "n_layers = 12\n",
        "\n",
        "\n",
        "model = FusionTransformer2dplus(image_size, patch_size, n_layers, d_model, d_ff, n_heads, channels=1)\n"
      ],
      "metadata": {
        "id": "4E4h1PR2gpXW"
      },
      "execution_count": null,
      "outputs": []
    },
    {
      "cell_type": "code",
      "source": [
        "! pip install einops\n",
        "\n",
        "#Transformer 2d, time = channels\n",
        "from utile_Transformers import Block, Decoder\n",
        "import torch.nn as nn\n",
        "\n",
        "class UnifiedEmbedding2dplus(nn.Module):\n",
        "  # le temps ici est compté comme un channel\n",
        "    def __init__(self, d_model, patch_size, channels, nsteps):\n",
        "        super().__init__()\n",
        "        self.d_model = d_model\n",
        "        self.patch_size = patch_size\n",
        "        self.channels = channels\n",
        "        self.nsteps = nsteps\n",
        "        self.dim_modality = 4\n",
        "        # Positional embedding for coordinates\n",
        "        self.coord_embed = nn.Linear(2, d_model // 3)\n",
        "\n",
        "        # Modality specific embeddings\n",
        "        self.patch_modality = nn.Parameter(torch.randn(self.dim_modality))\n",
        "        self.point_modality = nn.Parameter(torch.randn(self.dim_modality))\n",
        "        self.segment_modality = nn.Parameter(torch.randn(self.dim_modality))\n",
        "\n",
        "        # Feature embedding for radar image patches\n",
        "        self.patch_feature_embed = nn.Conv2d(channels, d_model - self.dim_modality \\\n",
        "                - 2 * (d_model // 3), kernel_size=patch_size, stride=patch_size)\n",
        "\n",
        "        # Feature embedding for point and segment rain rates\n",
        "        self.punctual_rain_rate_embed = nn.Linear(nsteps, d_model - self.dim_modality \\\n",
        "                                                  - 2 * (d_model // 3))\n",
        "        self.integrated_rain_rate_embed = nn.Linear(nsteps, d_model - self.dim_modality \\\n",
        "                                                   - 2 * (d_model // 3))\n",
        "\n",
        "    def forward(self, image, points, segments):\n",
        "        B, C, H, W = image.shape\n",
        "        device = image.device\n",
        "        # print(\"Image shape:\", image.shape)\n",
        "\n",
        "        # Embedding patches\n",
        "        patch_embeddings = self.patch_feature_embed(image).flatten(2).transpose(1, 2)\n",
        "        # print(\"Patch embeddings shape:\", patch_embeddings.shape)\n",
        "\n",
        "        # Create grid for patches\n",
        "        grid_x, grid_y = torch.meshgrid(torch.arange(0, H, self.patch_size), torch.arange(0, W, self.patch_size), indexing='ij')\n",
        "        grid_x = grid_x.to(device)\n",
        "        grid_y = grid_y.to(device)\n",
        "        upleft = torch.stack((grid_x.flatten(), grid_y.flatten()), dim=-1).float()\n",
        "        downright = torch.stack((grid_x.flatten() + self.patch_size, grid_y.flatten() + self.patch_size), dim=-1).float()\n",
        "        # erreur chatGPT !! patch_pos_embeddings = self.coord_embed(upleft) + self.coord_embed(downright)\n",
        "        patch_pos_embeddings = torch.cat([self.coord_embed(upleft), self.coord_embed(downright)], dim=-1)\n",
        "        patch_pos_embeddings = patch_pos_embeddings.repeat(B, 1, 1)\n",
        "        # print(\"Patch positional embeddings shape:\", patch_pos_embeddings.shape)\n",
        "\n",
        "        patch_embeddings = torch.cat([patch_embeddings, patch_pos_embeddings, self.patch_modality.unsqueeze(0).expand(B, patch_embeddings.size(1), -1)], dim=-1)\n",
        "        # print(\"Final patch embeddings shape:\", patch_embeddings.shape)\n",
        "\n",
        "        # Embedding points\n",
        "        point_pos_embeddings = self.coord_embed(points[..., :2].float())\n",
        "        # print(\"Point positional embeddings shape:\", point_pos_embeddings.shape)\n",
        "\n",
        "        point_feature_embeddings = self.punctual_rain_rate_embed(points[..., 2:].float())\n",
        "        point_embeddings = torch.cat([point_feature_embeddings, point_pos_embeddings, point_pos_embeddings, self.point_modality.unsqueeze(0).expand(B, points.size(1), -1)], dim=-1)\n",
        "        # print(\"Final point embeddings shape:\", point_embeddings.shape)\n",
        "\n",
        "        # Embedding segments\n",
        "        seg_pos_embeddings0 = self.coord_embed(segments[..., :2].float())\n",
        "        seg_pos_embeddings1 = self.coord_embed(segments[..., 2:4].float())\n",
        "        segment_feature_embeddings = self.integrated_rain_rate_embed(segments[..., 4:].float())\n",
        "        segment_embeddings = torch.cat([segment_feature_embeddings, seg_pos_embeddings0, seg_pos_embeddings1, self.segment_modality.unsqueeze(0).expand(B, segments.size(1), -1)], dim=-1)\n",
        "        # print(\"Final segment embeddings shape:\", segment_embeddings.shape)\n",
        "\n",
        "        # Concatenate all embeddings\n",
        "        embeddings = torch.cat([patch_embeddings, point_embeddings, segment_embeddings], dim=1)\n",
        "\n",
        "        return embeddings\n",
        "\n",
        "def init_weights(m):\n",
        "    if isinstance(m, nn.Linear):\n",
        "        nn.init.xavier_uniform_(m.weight)\n",
        "        nn.init.constant_(m.bias, 0)\n",
        "    elif isinstance(m, nn.LayerNorm):\n",
        "        nn.init.constant_(m.bias, 0)\n",
        "        nn.init.constant_(m.weight, 1.0)\n",
        "\n",
        "def trunc_normal_(tensor, mean=0, std=1):\n",
        "    nn.init.trunc_normal_(tensor, mean=mean, std=std)\n",
        "\n",
        "\n",
        "class FusionTransformer2dplus(nn.Module):\n",
        "    def __init__(\n",
        "        self,\n",
        "        image_size,\n",
        "        patch_size,\n",
        "        n_layers,\n",
        "        d_model,\n",
        "        d_ff,\n",
        "        n_heads,\n",
        "        channels=1,\n",
        "        nsteps=60\n",
        "    ):\n",
        "        super().__init__()\n",
        "        self.ue = UnifiedEmbedding2dplus(d_model, patch_size, channels, nsteps)\n",
        "        self.patch_size = patch_size\n",
        "        self.n_layers = n_layers\n",
        "        self.d_model = d_model\n",
        "        self.d_ff = d_ff\n",
        "        self.n_heads = n_heads\n",
        "\n",
        "\n",
        "        self.blocks = nn.ModuleList(\n",
        "            [Block(d_model, n_heads, d_ff) for _ in range(n_layers)]\n",
        "        )\n",
        "        self.norm = nn.LayerNorm(d_model)\n",
        "\n",
        "        self.apply(init_weights)\n",
        "\n",
        "        self.decoder = Decoder(patch_size, d_model)\n",
        "\n",
        "    def forward(self, x, y, z):\n",
        "        # Embed signal\n",
        "        x = self.ue(x, y, z)  # (B, N, D)\n",
        "\n",
        "        # Process through each transformer block\n",
        "        for block in self.blocks:\n",
        "            x = block(x)\n",
        "\n",
        "        # Apply final normalization\n",
        "        x = self.norm(x)\n",
        "        x = x[:,:256,:]\n",
        "\n",
        "        x = self.decoder(x)\n",
        "\n",
        "        return x\n"
      ],
      "metadata": {
        "colab": {
          "base_uri": "https://localhost:8080/"
        },
        "id": "hlSZZSEwsXL1",
        "outputId": "f8ad7555-bcea-4b5b-8236-76203251d53c"
      },
      "execution_count": null,
      "outputs": [
        {
          "output_type": "stream",
          "name": "stdout",
          "text": [
            "Requirement already satisfied: einops in /usr/local/lib/python3.10/dist-packages (0.8.0)\n"
          ]
        }
      ]
    },
    {
      "cell_type": "code",
      "source": [
        "model = model.to(device)\n",
        "\n",
        "model(noisy_images, point_measurements, segment_measurements)"
      ],
      "metadata": {
        "colab": {
          "base_uri": "https://localhost:8080/",
          "height": 321
        },
        "id": "3VpjVwiqnVPP",
        "outputId": "51549c57-adf0-4b5d-b623-2978916b92e8"
      },
      "execution_count": null,
      "outputs": [
        {
          "output_type": "error",
          "ename": "RuntimeError",
          "evalue": "Given groups=1, weight of size [36, 1, 4, 4], expected input[1, 12, 64, 64] to have 1 channels, but got 12 channels instead",
          "traceback": [
            "\u001b[0;31m---------------------------------------------------------------------------\u001b[0m",
            "\u001b[0;31mRuntimeError\u001b[0m                              Traceback (most recent call last)",
            "\u001b[0;32m<ipython-input-26-05df95c92d29>\u001b[0m in \u001b[0;36m<cell line: 3>\u001b[0;34m()\u001b[0m\n\u001b[1;32m      1\u001b[0m \u001b[0mmodel\u001b[0m \u001b[0;34m=\u001b[0m \u001b[0mmodel\u001b[0m\u001b[0;34m.\u001b[0m\u001b[0mto\u001b[0m\u001b[0;34m(\u001b[0m\u001b[0mdevice\u001b[0m\u001b[0;34m)\u001b[0m\u001b[0;34m\u001b[0m\u001b[0;34m\u001b[0m\u001b[0m\n\u001b[1;32m      2\u001b[0m \u001b[0;34m\u001b[0m\u001b[0m\n\u001b[0;32m----> 3\u001b[0;31m \u001b[0mmodel\u001b[0m\u001b[0;34m(\u001b[0m\u001b[0mnoisy_images\u001b[0m\u001b[0;34m,\u001b[0m \u001b[0mpoint_measurements\u001b[0m\u001b[0;34m,\u001b[0m \u001b[0msegment_measurements\u001b[0m\u001b[0;34m)\u001b[0m\u001b[0;34m\u001b[0m\u001b[0;34m\u001b[0m\u001b[0m\n\u001b[0m",
            "\u001b[0;32m/usr/local/lib/python3.10/dist-packages/torch/nn/modules/module.py\u001b[0m in \u001b[0;36m_wrapped_call_impl\u001b[0;34m(self, *args, **kwargs)\u001b[0m\n\u001b[1;32m   1530\u001b[0m             \u001b[0;32mreturn\u001b[0m \u001b[0mself\u001b[0m\u001b[0;34m.\u001b[0m\u001b[0m_compiled_call_impl\u001b[0m\u001b[0;34m(\u001b[0m\u001b[0;34m*\u001b[0m\u001b[0margs\u001b[0m\u001b[0;34m,\u001b[0m \u001b[0;34m**\u001b[0m\u001b[0mkwargs\u001b[0m\u001b[0;34m)\u001b[0m  \u001b[0;31m# type: ignore[misc]\u001b[0m\u001b[0;34m\u001b[0m\u001b[0;34m\u001b[0m\u001b[0m\n\u001b[1;32m   1531\u001b[0m         \u001b[0;32melse\u001b[0m\u001b[0;34m:\u001b[0m\u001b[0;34m\u001b[0m\u001b[0;34m\u001b[0m\u001b[0m\n\u001b[0;32m-> 1532\u001b[0;31m             \u001b[0;32mreturn\u001b[0m \u001b[0mself\u001b[0m\u001b[0;34m.\u001b[0m\u001b[0m_call_impl\u001b[0m\u001b[0;34m(\u001b[0m\u001b[0;34m*\u001b[0m\u001b[0margs\u001b[0m\u001b[0;34m,\u001b[0m \u001b[0;34m**\u001b[0m\u001b[0mkwargs\u001b[0m\u001b[0;34m)\u001b[0m\u001b[0;34m\u001b[0m\u001b[0;34m\u001b[0m\u001b[0m\n\u001b[0m\u001b[1;32m   1533\u001b[0m \u001b[0;34m\u001b[0m\u001b[0m\n\u001b[1;32m   1534\u001b[0m     \u001b[0;32mdef\u001b[0m \u001b[0m_call_impl\u001b[0m\u001b[0;34m(\u001b[0m\u001b[0mself\u001b[0m\u001b[0;34m,\u001b[0m \u001b[0;34m*\u001b[0m\u001b[0margs\u001b[0m\u001b[0;34m,\u001b[0m \u001b[0;34m**\u001b[0m\u001b[0mkwargs\u001b[0m\u001b[0;34m)\u001b[0m\u001b[0;34m:\u001b[0m\u001b[0;34m\u001b[0m\u001b[0;34m\u001b[0m\u001b[0m\n",
            "\u001b[0;32m/usr/local/lib/python3.10/dist-packages/torch/nn/modules/module.py\u001b[0m in \u001b[0;36m_call_impl\u001b[0;34m(self, *args, **kwargs)\u001b[0m\n\u001b[1;32m   1539\u001b[0m                 \u001b[0;32mor\u001b[0m \u001b[0m_global_backward_pre_hooks\u001b[0m \u001b[0;32mor\u001b[0m \u001b[0m_global_backward_hooks\u001b[0m\u001b[0;34m\u001b[0m\u001b[0;34m\u001b[0m\u001b[0m\n\u001b[1;32m   1540\u001b[0m                 or _global_forward_hooks or _global_forward_pre_hooks):\n\u001b[0;32m-> 1541\u001b[0;31m             \u001b[0;32mreturn\u001b[0m \u001b[0mforward_call\u001b[0m\u001b[0;34m(\u001b[0m\u001b[0;34m*\u001b[0m\u001b[0margs\u001b[0m\u001b[0;34m,\u001b[0m \u001b[0;34m**\u001b[0m\u001b[0mkwargs\u001b[0m\u001b[0;34m)\u001b[0m\u001b[0;34m\u001b[0m\u001b[0;34m\u001b[0m\u001b[0m\n\u001b[0m\u001b[1;32m   1542\u001b[0m \u001b[0;34m\u001b[0m\u001b[0m\n\u001b[1;32m   1543\u001b[0m         \u001b[0;32mtry\u001b[0m\u001b[0;34m:\u001b[0m\u001b[0;34m\u001b[0m\u001b[0;34m\u001b[0m\u001b[0m\n",
            "\u001b[0;32m<ipython-input-21-f09bf7985d8e>\u001b[0m in \u001b[0;36mforward\u001b[0;34m(self, x, y, z)\u001b[0m\n\u001b[1;32m    120\u001b[0m     \u001b[0;32mdef\u001b[0m \u001b[0mforward\u001b[0m\u001b[0;34m(\u001b[0m\u001b[0mself\u001b[0m\u001b[0;34m,\u001b[0m \u001b[0mx\u001b[0m\u001b[0;34m,\u001b[0m \u001b[0my\u001b[0m\u001b[0;34m,\u001b[0m \u001b[0mz\u001b[0m\u001b[0;34m)\u001b[0m\u001b[0;34m:\u001b[0m\u001b[0;34m\u001b[0m\u001b[0;34m\u001b[0m\u001b[0m\n\u001b[1;32m    121\u001b[0m         \u001b[0;31m# Embed signal\u001b[0m\u001b[0;34m\u001b[0m\u001b[0;34m\u001b[0m\u001b[0m\n\u001b[0;32m--> 122\u001b[0;31m         \u001b[0mx\u001b[0m \u001b[0;34m=\u001b[0m \u001b[0mself\u001b[0m\u001b[0;34m.\u001b[0m\u001b[0mue\u001b[0m\u001b[0;34m(\u001b[0m\u001b[0mx\u001b[0m\u001b[0;34m,\u001b[0m \u001b[0my\u001b[0m\u001b[0;34m,\u001b[0m \u001b[0mz\u001b[0m\u001b[0;34m)\u001b[0m  \u001b[0;31m# (B, N, D)\u001b[0m\u001b[0;34m\u001b[0m\u001b[0;34m\u001b[0m\u001b[0m\n\u001b[0m\u001b[1;32m    123\u001b[0m \u001b[0;34m\u001b[0m\u001b[0m\n\u001b[1;32m    124\u001b[0m         \u001b[0;31m# Process through each transformer block\u001b[0m\u001b[0;34m\u001b[0m\u001b[0;34m\u001b[0m\u001b[0m\n",
            "\u001b[0;32m/usr/local/lib/python3.10/dist-packages/torch/nn/modules/module.py\u001b[0m in \u001b[0;36m_wrapped_call_impl\u001b[0;34m(self, *args, **kwargs)\u001b[0m\n\u001b[1;32m   1530\u001b[0m             \u001b[0;32mreturn\u001b[0m \u001b[0mself\u001b[0m\u001b[0;34m.\u001b[0m\u001b[0m_compiled_call_impl\u001b[0m\u001b[0;34m(\u001b[0m\u001b[0;34m*\u001b[0m\u001b[0margs\u001b[0m\u001b[0;34m,\u001b[0m \u001b[0;34m**\u001b[0m\u001b[0mkwargs\u001b[0m\u001b[0;34m)\u001b[0m  \u001b[0;31m# type: ignore[misc]\u001b[0m\u001b[0;34m\u001b[0m\u001b[0;34m\u001b[0m\u001b[0m\n\u001b[1;32m   1531\u001b[0m         \u001b[0;32melse\u001b[0m\u001b[0;34m:\u001b[0m\u001b[0;34m\u001b[0m\u001b[0;34m\u001b[0m\u001b[0m\n\u001b[0;32m-> 1532\u001b[0;31m             \u001b[0;32mreturn\u001b[0m \u001b[0mself\u001b[0m\u001b[0;34m.\u001b[0m\u001b[0m_call_impl\u001b[0m\u001b[0;34m(\u001b[0m\u001b[0;34m*\u001b[0m\u001b[0margs\u001b[0m\u001b[0;34m,\u001b[0m \u001b[0;34m**\u001b[0m\u001b[0mkwargs\u001b[0m\u001b[0;34m)\u001b[0m\u001b[0;34m\u001b[0m\u001b[0;34m\u001b[0m\u001b[0m\n\u001b[0m\u001b[1;32m   1533\u001b[0m \u001b[0;34m\u001b[0m\u001b[0m\n\u001b[1;32m   1534\u001b[0m     \u001b[0;32mdef\u001b[0m \u001b[0m_call_impl\u001b[0m\u001b[0;34m(\u001b[0m\u001b[0mself\u001b[0m\u001b[0;34m,\u001b[0m \u001b[0;34m*\u001b[0m\u001b[0margs\u001b[0m\u001b[0;34m,\u001b[0m \u001b[0;34m**\u001b[0m\u001b[0mkwargs\u001b[0m\u001b[0;34m)\u001b[0m\u001b[0;34m:\u001b[0m\u001b[0;34m\u001b[0m\u001b[0;34m\u001b[0m\u001b[0m\n",
            "\u001b[0;32m/usr/local/lib/python3.10/dist-packages/torch/nn/modules/module.py\u001b[0m in \u001b[0;36m_call_impl\u001b[0;34m(self, *args, **kwargs)\u001b[0m\n\u001b[1;32m   1539\u001b[0m                 \u001b[0;32mor\u001b[0m \u001b[0m_global_backward_pre_hooks\u001b[0m \u001b[0;32mor\u001b[0m \u001b[0m_global_backward_hooks\u001b[0m\u001b[0;34m\u001b[0m\u001b[0;34m\u001b[0m\u001b[0m\n\u001b[1;32m   1540\u001b[0m                 or _global_forward_hooks or _global_forward_pre_hooks):\n\u001b[0;32m-> 1541\u001b[0;31m             \u001b[0;32mreturn\u001b[0m \u001b[0mforward_call\u001b[0m\u001b[0;34m(\u001b[0m\u001b[0;34m*\u001b[0m\u001b[0margs\u001b[0m\u001b[0;34m,\u001b[0m \u001b[0;34m**\u001b[0m\u001b[0mkwargs\u001b[0m\u001b[0;34m)\u001b[0m\u001b[0;34m\u001b[0m\u001b[0;34m\u001b[0m\u001b[0m\n\u001b[0m\u001b[1;32m   1542\u001b[0m \u001b[0;34m\u001b[0m\u001b[0m\n\u001b[1;32m   1543\u001b[0m         \u001b[0;32mtry\u001b[0m\u001b[0;34m:\u001b[0m\u001b[0;34m\u001b[0m\u001b[0;34m\u001b[0m\u001b[0m\n",
            "\u001b[0;32m<ipython-input-21-f09bf7985d8e>\u001b[0m in \u001b[0;36mforward\u001b[0;34m(self, image, points, segments)\u001b[0m\n\u001b[1;32m     38\u001b[0m \u001b[0;34m\u001b[0m\u001b[0m\n\u001b[1;32m     39\u001b[0m         \u001b[0;31m# Embedding patches\u001b[0m\u001b[0;34m\u001b[0m\u001b[0;34m\u001b[0m\u001b[0m\n\u001b[0;32m---> 40\u001b[0;31m         \u001b[0mpatch_embeddings\u001b[0m \u001b[0;34m=\u001b[0m \u001b[0mself\u001b[0m\u001b[0;34m.\u001b[0m\u001b[0mpatch_feature_embed\u001b[0m\u001b[0;34m(\u001b[0m\u001b[0mimage\u001b[0m\u001b[0;34m)\u001b[0m\u001b[0;34m.\u001b[0m\u001b[0mflatten\u001b[0m\u001b[0;34m(\u001b[0m\u001b[0;36m2\u001b[0m\u001b[0;34m)\u001b[0m\u001b[0;34m.\u001b[0m\u001b[0mtranspose\u001b[0m\u001b[0;34m(\u001b[0m\u001b[0;36m1\u001b[0m\u001b[0;34m,\u001b[0m \u001b[0;36m2\u001b[0m\u001b[0;34m)\u001b[0m\u001b[0;34m\u001b[0m\u001b[0;34m\u001b[0m\u001b[0m\n\u001b[0m\u001b[1;32m     41\u001b[0m         \u001b[0;31m# print(\"Patch embeddings shape:\", patch_embeddings.shape)\u001b[0m\u001b[0;34m\u001b[0m\u001b[0;34m\u001b[0m\u001b[0m\n\u001b[1;32m     42\u001b[0m \u001b[0;34m\u001b[0m\u001b[0m\n",
            "\u001b[0;32m/usr/local/lib/python3.10/dist-packages/torch/nn/modules/module.py\u001b[0m in \u001b[0;36m_wrapped_call_impl\u001b[0;34m(self, *args, **kwargs)\u001b[0m\n\u001b[1;32m   1530\u001b[0m             \u001b[0;32mreturn\u001b[0m \u001b[0mself\u001b[0m\u001b[0;34m.\u001b[0m\u001b[0m_compiled_call_impl\u001b[0m\u001b[0;34m(\u001b[0m\u001b[0;34m*\u001b[0m\u001b[0margs\u001b[0m\u001b[0;34m,\u001b[0m \u001b[0;34m**\u001b[0m\u001b[0mkwargs\u001b[0m\u001b[0;34m)\u001b[0m  \u001b[0;31m# type: ignore[misc]\u001b[0m\u001b[0;34m\u001b[0m\u001b[0;34m\u001b[0m\u001b[0m\n\u001b[1;32m   1531\u001b[0m         \u001b[0;32melse\u001b[0m\u001b[0;34m:\u001b[0m\u001b[0;34m\u001b[0m\u001b[0;34m\u001b[0m\u001b[0m\n\u001b[0;32m-> 1532\u001b[0;31m             \u001b[0;32mreturn\u001b[0m \u001b[0mself\u001b[0m\u001b[0;34m.\u001b[0m\u001b[0m_call_impl\u001b[0m\u001b[0;34m(\u001b[0m\u001b[0;34m*\u001b[0m\u001b[0margs\u001b[0m\u001b[0;34m,\u001b[0m \u001b[0;34m**\u001b[0m\u001b[0mkwargs\u001b[0m\u001b[0;34m)\u001b[0m\u001b[0;34m\u001b[0m\u001b[0;34m\u001b[0m\u001b[0m\n\u001b[0m\u001b[1;32m   1533\u001b[0m \u001b[0;34m\u001b[0m\u001b[0m\n\u001b[1;32m   1534\u001b[0m     \u001b[0;32mdef\u001b[0m \u001b[0m_call_impl\u001b[0m\u001b[0;34m(\u001b[0m\u001b[0mself\u001b[0m\u001b[0;34m,\u001b[0m \u001b[0;34m*\u001b[0m\u001b[0margs\u001b[0m\u001b[0;34m,\u001b[0m \u001b[0;34m**\u001b[0m\u001b[0mkwargs\u001b[0m\u001b[0;34m)\u001b[0m\u001b[0;34m:\u001b[0m\u001b[0;34m\u001b[0m\u001b[0;34m\u001b[0m\u001b[0m\n",
            "\u001b[0;32m/usr/local/lib/python3.10/dist-packages/torch/nn/modules/module.py\u001b[0m in \u001b[0;36m_call_impl\u001b[0;34m(self, *args, **kwargs)\u001b[0m\n\u001b[1;32m   1539\u001b[0m                 \u001b[0;32mor\u001b[0m \u001b[0m_global_backward_pre_hooks\u001b[0m \u001b[0;32mor\u001b[0m \u001b[0m_global_backward_hooks\u001b[0m\u001b[0;34m\u001b[0m\u001b[0;34m\u001b[0m\u001b[0m\n\u001b[1;32m   1540\u001b[0m                 or _global_forward_hooks or _global_forward_pre_hooks):\n\u001b[0;32m-> 1541\u001b[0;31m             \u001b[0;32mreturn\u001b[0m \u001b[0mforward_call\u001b[0m\u001b[0;34m(\u001b[0m\u001b[0;34m*\u001b[0m\u001b[0margs\u001b[0m\u001b[0;34m,\u001b[0m \u001b[0;34m**\u001b[0m\u001b[0mkwargs\u001b[0m\u001b[0;34m)\u001b[0m\u001b[0;34m\u001b[0m\u001b[0;34m\u001b[0m\u001b[0m\n\u001b[0m\u001b[1;32m   1542\u001b[0m \u001b[0;34m\u001b[0m\u001b[0m\n\u001b[1;32m   1543\u001b[0m         \u001b[0;32mtry\u001b[0m\u001b[0;34m:\u001b[0m\u001b[0;34m\u001b[0m\u001b[0;34m\u001b[0m\u001b[0m\n",
            "\u001b[0;32m/usr/local/lib/python3.10/dist-packages/torch/nn/modules/conv.py\u001b[0m in \u001b[0;36mforward\u001b[0;34m(self, input)\u001b[0m\n\u001b[1;32m    458\u001b[0m \u001b[0;34m\u001b[0m\u001b[0m\n\u001b[1;32m    459\u001b[0m     \u001b[0;32mdef\u001b[0m \u001b[0mforward\u001b[0m\u001b[0;34m(\u001b[0m\u001b[0mself\u001b[0m\u001b[0;34m,\u001b[0m \u001b[0minput\u001b[0m\u001b[0;34m:\u001b[0m \u001b[0mTensor\u001b[0m\u001b[0;34m)\u001b[0m \u001b[0;34m->\u001b[0m \u001b[0mTensor\u001b[0m\u001b[0;34m:\u001b[0m\u001b[0;34m\u001b[0m\u001b[0;34m\u001b[0m\u001b[0m\n\u001b[0;32m--> 460\u001b[0;31m         \u001b[0;32mreturn\u001b[0m \u001b[0mself\u001b[0m\u001b[0;34m.\u001b[0m\u001b[0m_conv_forward\u001b[0m\u001b[0;34m(\u001b[0m\u001b[0minput\u001b[0m\u001b[0;34m,\u001b[0m \u001b[0mself\u001b[0m\u001b[0;34m.\u001b[0m\u001b[0mweight\u001b[0m\u001b[0;34m,\u001b[0m \u001b[0mself\u001b[0m\u001b[0;34m.\u001b[0m\u001b[0mbias\u001b[0m\u001b[0;34m)\u001b[0m\u001b[0;34m\u001b[0m\u001b[0;34m\u001b[0m\u001b[0m\n\u001b[0m\u001b[1;32m    461\u001b[0m \u001b[0;34m\u001b[0m\u001b[0m\n\u001b[1;32m    462\u001b[0m \u001b[0;32mclass\u001b[0m \u001b[0mConv3d\u001b[0m\u001b[0;34m(\u001b[0m\u001b[0m_ConvNd\u001b[0m\u001b[0;34m)\u001b[0m\u001b[0;34m:\u001b[0m\u001b[0;34m\u001b[0m\u001b[0;34m\u001b[0m\u001b[0m\n",
            "\u001b[0;32m/usr/local/lib/python3.10/dist-packages/torch/nn/modules/conv.py\u001b[0m in \u001b[0;36m_conv_forward\u001b[0;34m(self, input, weight, bias)\u001b[0m\n\u001b[1;32m    454\u001b[0m                             \u001b[0mweight\u001b[0m\u001b[0;34m,\u001b[0m \u001b[0mbias\u001b[0m\u001b[0;34m,\u001b[0m \u001b[0mself\u001b[0m\u001b[0;34m.\u001b[0m\u001b[0mstride\u001b[0m\u001b[0;34m,\u001b[0m\u001b[0;34m\u001b[0m\u001b[0;34m\u001b[0m\u001b[0m\n\u001b[1;32m    455\u001b[0m                             _pair(0), self.dilation, self.groups)\n\u001b[0;32m--> 456\u001b[0;31m         return F.conv2d(input, weight, bias, self.stride,\n\u001b[0m\u001b[1;32m    457\u001b[0m                         self.padding, self.dilation, self.groups)\n\u001b[1;32m    458\u001b[0m \u001b[0;34m\u001b[0m\u001b[0m\n",
            "\u001b[0;31mRuntimeError\u001b[0m: Given groups=1, weight of size [36, 1, 4, 4], expected input[1, 12, 64, 64] to have 1 channels, but got 12 channels instead"
          ]
        }
      ]
    },
    {
      "cell_type": "code",
      "source": [],
      "metadata": {
        "id": "pE8_d-QJvSsq"
      },
      "execution_count": null,
      "outputs": []
    },
    {
      "cell_type": "code",
      "source": [
        "# Exemple / tracés\n",
        "images = set_tensor_values2(images, point_measurements)\n",
        "plot_images(images[0,...].cpu().numpy() + filters[0,...].cpu().numpy().sum(axis=0),\n",
        "            noisy_images[0,...].cpu().numpy(),\n",
        "            point_measurements[0,...].cpu().numpy(),\n",
        "            segment_measurements[0,...].cpu().numpy())"
      ],
      "metadata": {
        "id": "2UXxerZlPkI_"
      },
      "execution_count": null,
      "outputs": []
    },
    {
      "cell_type": "code",
      "source": [],
      "metadata": {
        "id": "CxGr8YXPn8DL"
      },
      "execution_count": null,
      "outputs": []
    },
    {
      "cell_type": "code",
      "source": [],
      "metadata": {
        "colab": {
          "base_uri": "https://localhost:8080/"
        },
        "id": "7TYTmlYkf-ZE",
        "outputId": "03045e5a-eede-4524-d28d-07949f70b876"
      },
      "execution_count": null,
      "outputs": [
        {
          "output_type": "execute_result",
          "data": {
            "text/plain": [
              "tensor(0.1194, device='cuda:0')"
            ]
          },
          "metadata": {},
          "execution_count": 11
        }
      ]
    }
  ],
  "metadata": {
    "colab": {
      "provenance": [],
      "machine_shape": "hm",
      "gpuType": "A100",
      "include_colab_link": true
    },
    "kernelspec": {
      "display_name": "Python 3",
      "name": "python3"
    },
    "accelerator": "GPU"
  },
  "nbformat": 4,
  "nbformat_minor": 0
}