{
  "cells": [
    {
      "cell_type": "markdown",
      "metadata": {
        "id": "view-in-github",
        "colab_type": "text"
      },
      "source": [
        "<a href=\"https://colab.research.google.com/github/nanopiero/fusion/blob/main/notebooks/construction_pb_fusion.ipynb\" target=\"_parent\"><img src=\"https://colab.research.google.com/assets/colab-badge.svg\" alt=\"Open In Colab\"/></a>"
      ]
    },
    {
      "cell_type": "markdown",
      "source": [
        "## Construction problème fusion\n"
      ],
      "metadata": {
        "id": "-1ciEeyNevrd"
      }
    },
    {
      "cell_type": "code",
      "execution_count": 1,
      "metadata": {
        "id": "mU0zdFYCLdgR"
      },
      "outputs": [],
      "source": [
        "# Imports des bibliothèques utiles\n",
        "# pour l'IA\n",
        "import torch\n",
        "# pour les maths\n",
        "import numpy as np\n",
        "# pour afficher des images et des courbes\n",
        "import matplotlib.pyplot as plt\n",
        "\n",
        "from random import randint\n",
        "import os"
      ]
    },
    {
      "cell_type": "code",
      "source": [
        "! git clone https://github.com/nanopiero/fusion.git"
      ],
      "metadata": {
        "colab": {
          "base_uri": "https://localhost:8080/"
        },
        "id": "-7O7I9ZuLLvv",
        "outputId": "fb5684dc-9c9e-4734-da5b-a188449f2216"
      },
      "execution_count": 2,
      "outputs": [
        {
          "output_type": "stream",
          "name": "stdout",
          "text": [
            "Cloning into 'fusion'...\n",
            "remote: Enumerating objects: 76, done.\u001b[K\n",
            "remote: Counting objects: 100% (76/76), done.\u001b[K\n",
            "remote: Compressing objects: 100% (75/75), done.\u001b[K\n",
            "Receiving objects: 100% (76/76), 992.12 KiB | 11.40 MiB/s, done.\n",
            "remote: Total 76 (delta 42), reused 4 (delta 0), pack-reused 0\u001b[K\n",
            "Resolving deltas: 100% (42/42), done.\n"
          ]
        }
      ]
    },
    {
      "cell_type": "code",
      "source": [
        "# Import des fonctions génératrices exploitées à l'échelle de l'image\n",
        "os.chdir('fusion')\n",
        "import utile_fusion\n",
        "# import importlib\n",
        "# importlib.reload(utile_fusion)\n",
        "from utile_fusion import spatialized_gt, create_cmls_filter\n",
        "\n"
      ],
      "metadata": {
        "id": "GtmsUJKNLAaa"
      },
      "execution_count": 3,
      "outputs": []
    },
    {
      "cell_type": "code",
      "source": [
        "# Exemple :\n",
        "S = 64\n",
        "# in the dataset :\n",
        "image = spatialized_gt(ndiscs=5, size=S, nsteps=60)\n",
        "pairs, filter = create_cmls_filter(S, npairs = 10)"
      ],
      "metadata": {
        "id": "HgGWlII_O9KC"
      },
      "execution_count": 7,
      "outputs": []
    },
    {
      "cell_type": "code",
      "source": [
        "# Import des fonctions utilisées à l'échelle du batch, sur carte GPU\n",
        "from utile_fusion import point_gt, segment_gt, make_noisy_images"
      ],
      "metadata": {
        "id": "q_a8MHuFPFYI"
      },
      "execution_count": 8,
      "outputs": []
    },
    {
      "cell_type": "code",
      "source": [
        "# Exemple\n",
        "device = torch.device('cuda:0')\n",
        "images = torch.tensor(image).unsqueeze(0).float().to(device)\n",
        "pairs = torch.tensor(pairs).unsqueeze(0).float().to(device)\n",
        "filters = torch.tensor(filter).unsqueeze(0).float().to(device)\n",
        "\n",
        "# done on gpu:\n",
        "point_measurements = point_gt(images, npoints=5)\n",
        "segment_measurements = segment_gt(images, pairs, filters)\n",
        "\n",
        "\n",
        "print(pairs.min(), pairs.max())\n",
        "images2 = make_noisy_images(images)"
      ],
      "metadata": {
        "id": "I3iYoQWyMXBj",
        "outputId": "b2d17a1f-3e9f-4bd0-a849-c40e43c3d8f5",
        "colab": {
          "base_uri": "https://localhost:8080/"
        }
      },
      "execution_count": 9,
      "outputs": [
        {
          "output_type": "stream",
          "name": "stdout",
          "text": [
            "tensor(0.0067, device='cuda:0') tensor(0.9644, device='cuda:0')\n",
            "shape of gk: torch.Size([1, 1, 25, 25])\n",
            "tensor([0.2853], device='cuda:0')\n"
          ]
        }
      ]
    },
    {
      "cell_type": "code",
      "source": [
        "#Import des fonctions de visualisation\n",
        "from utile_fusion import set_tensor_values2, plot_images"
      ],
      "metadata": {
        "id": "dgGOipfvPoV-"
      },
      "execution_count": 10,
      "outputs": []
    },
    {
      "cell_type": "code",
      "source": [
        "# Exemple / tracés\n",
        "images = set_tensor_values2(images, point_measurements)\n",
        "plot_images(images.cpu().numpy().squeeze(0) + filter.sum(axis=0),\n",
        "            images2.squeeze(0).cpu().numpy(),\n",
        "            point_measurements.cpu().numpy().squeeze(0),\n",
        "            segment_measurements.cpu().numpy().squeeze(0))"
      ],
      "metadata": {
        "id": "2UXxerZlPkI_"
      },
      "execution_count": null,
      "outputs": []
    }
  ],
  "metadata": {
    "colab": {
      "provenance": [],
      "machine_shape": "hm",
      "gpuType": "L4",
      "include_colab_link": true
    },
    "kernelspec": {
      "display_name": "Python 3",
      "name": "python3"
    },
    "accelerator": "GPU"
  },
  "nbformat": 4,
  "nbformat_minor": 0
}